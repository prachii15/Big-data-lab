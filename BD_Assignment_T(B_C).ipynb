{
  "nbformat": 4,
  "nbformat_minor": 0,
  "metadata": {
    "colab": {
      "provenance": [],
      "authorship_tag": "ABX9TyPSNruq0MTfQmmIkWx3wOcy",
      "include_colab_link": true
    },
    "kernelspec": {
      "name": "python3",
      "display_name": "Python 3"
    },
    "language_info": {
      "name": "python"
    }
  },
  "cells": [
    {
      "cell_type": "markdown",
      "metadata": {
        "id": "view-in-github",
        "colab_type": "text"
      },
      "source": [
        "<a href=\"https://colab.research.google.com/github/prachii15/Big-data-lab/blob/main/BD_Assignment_T(B_C).ipynb\" target=\"_parent\"><img src=\"https://colab.research.google.com/assets/colab-badge.svg\" alt=\"Open In Colab\"/></a>"
      ]
    },
    {
      "cell_type": "markdown",
      "source": [
        "# Big Data\n",
        "## Assignment 1\n",
        "## Task B & C"
      ],
      "metadata": {
        "id": "gSk7Ti5GQdrj"
      }
    },
    {
      "cell_type": "markdown",
      "source": [
        "## Prachi Mehta (202318008)"
      ],
      "metadata": {
        "id": "yl3BkbC-QmvZ"
      }
    },
    {
      "cell_type": "markdown",
      "source": [
        "Task B: This segment of the assignment is designed to enhance your understanding of the API\n",
        "call process and dataset creation. Utilize any freely available API endpoint on Rapidapi to generate a dataset."
      ],
      "metadata": {
        "id": "RNjClnmDQ2_P"
      }
    },
    {
      "cell_type": "markdown",
      "source": [
        "Task C: In this part of the assignment, you will learn how to construct a dataset by scraping a\n",
        "website online. Utilize BeautifulSoup or any other suitable scraping library to extract all the\n",
        "details of Amazon products and compile a dataset."
      ],
      "metadata": {
        "id": "vdZlN_FEQ5L7"
      }
    },
    {
      "cell_type": "code",
      "source": [
        "from bs4 import BeautifulSoup\n",
        "import requests\n",
        "import pandas as pd"
      ],
      "metadata": {
        "id": "v-pWyuIEGgfP"
      },
      "execution_count": 30,
      "outputs": []
    },
    {
      "cell_type": "code",
      "source": [
        "def scrape_amazon(search_key, no_pages):\n",
        "    base_url = 'https://www.amazon.in/s'\n",
        "    data = []\n",
        "\n",
        "    for page in range(1,no_pages + 1):\n",
        "        params = {'k': search_key, 'page': page}\n",
        "        webpage = requests.get(base_url, params=params)\n",
        "        soup = BeautifulSoup(webpage.content, 'html.parser')\n",
        "\n",
        "        products = soup.find_all('div', class_='puis-card-container s-card-container s-overflow-hidden aok-relative puis-include-content-margin puis puis-v1x9xtdrqwkf2b2sy3gv3bhvhpn s-latency-cf-section puis-card-border')\n",
        "\n",
        "        for product in products:\n",
        "            brand_name = product.find('h2').text.strip()\n",
        "            rating = product.find('span', class_='a-icon-alt').text.strip() if product.find('span', class_='a-icon-alt') else 'N/A'\n",
        "            reviews = product.find('span', class_='a-size-base s-underline-text').text.strip() if product.find('span', class_='a-size-base s-underline-text') else 'N/A'\n",
        "            price = product.find('span', class_='a-price-whole').text.strip() if product.find('span', class_='a-price-whole') else 'N/A'\n",
        "\n",
        "            data.append({'brand_name': brand_name, 'rating': rating, 'reviews': reviews, 'price': price})\n",
        "\n",
        "    return pd.DataFrame(data)\n",
        "\n",
        "search_key = 'redmi'\n",
        "no_pages_to_scrape = 45\n",
        "df = scrape_amazon(search_key, no_pages_to_scrape)\n",
        "print(df)\n",
        "\n",
        "df.to_csv('redmi.csv', index=True)\n",
        "\n",
        "df1 = pd.read_csv('redmi.csv')\n",
        "print(df1)\n"
      ],
      "metadata": {
        "colab": {
          "base_uri": "https://localhost:8080/"
        },
        "id": "l8iLD5EVNkYE",
        "outputId": "f36e55c5-d83b-4e8c-b376-cc0b3448c95f"
      },
      "execution_count": 33,
      "outputs": [
        {
          "output_type": "stream",
          "name": "stdout",
          "text": [
            "                                           brand_name              rating  \\\n",
            "0   Redmi 9 Activ (Coral Green, 4GB RAM, 64GB Stor...  4.1 out of 5 stars   \n",
            "1   Redmi 13C (Starshine Green, 8GB RAM, 256GB Sto...  4.0 out of 5 stars   \n",
            "2   Redmi 13C (Starfrost White, 6GB RAM, 128GB Sto...  4.0 out of 5 stars   \n",
            "3   Redmi Note 10S (Deep Sea Blue, 6GB RAM, 64GB S...  4.2 out of 5 stars   \n",
            "4       Redmi 12(Pastel Blue, 6GB RAM, 128GB Storage)  3.7 out of 5 stars   \n",
            "..                                                ...                 ...   \n",
            "75  (Refurbished) Redmi Note 10S (Frost White, 8GB...  3.1 out of 5 stars   \n",
            "76  realme 10 Pro+ 5G (Nebula Blue, 6GB RAM, 128GB...  4.3 out of 5 stars   \n",
            "77  Xiaomi Mi 11 Lite (Tuscany Coral, 6GB RAM, 128...  3.7 out of 5 stars   \n",
            "78  (Refurbished) Redmi K50i (Quick Silver, 8GB RA...  1.0 out of 5 stars   \n",
            "79  iQOO Neo 7 5G (Frost Blue, 8GB RAM, 128GB Stor...  4.2 out of 5 stars   \n",
            "\n",
            "    reviews   price  \n",
            "0   297,926   9,499  \n",
            "1       641  11,499  \n",
            "2       641   9,999  \n",
            "3   215,197  14,999  \n",
            "4        28   9,901  \n",
            "..      ...     ...  \n",
            "75        7  13,999  \n",
            "76      152  25,999  \n",
            "77      219  14,999  \n",
            "78        1  20,499  \n",
            "79    6,265  24,999  \n",
            "\n",
            "[80 rows x 4 columns]\n",
            "    Unnamed: 0                                         brand_name  \\\n",
            "0            0  Redmi 9 Activ (Coral Green, 4GB RAM, 64GB Stor...   \n",
            "1            1  Redmi 13C (Starshine Green, 8GB RAM, 256GB Sto...   \n",
            "2            2  Redmi 13C (Starfrost White, 6GB RAM, 128GB Sto...   \n",
            "3            3  Redmi Note 10S (Deep Sea Blue, 6GB RAM, 64GB S...   \n",
            "4            4      Redmi 12(Pastel Blue, 6GB RAM, 128GB Storage)   \n",
            "..         ...                                                ...   \n",
            "75          75  (Refurbished) Redmi Note 10S (Frost White, 8GB...   \n",
            "76          76  realme 10 Pro+ 5G (Nebula Blue, 6GB RAM, 128GB...   \n",
            "77          77  Xiaomi Mi 11 Lite (Tuscany Coral, 6GB RAM, 128...   \n",
            "78          78  (Refurbished) Redmi K50i (Quick Silver, 8GB RA...   \n",
            "79          79  iQOO Neo 7 5G (Frost Blue, 8GB RAM, 128GB Stor...   \n",
            "\n",
            "                rating  reviews   price  \n",
            "0   4.1 out of 5 stars  297,926   9,499  \n",
            "1   4.0 out of 5 stars      641  11,499  \n",
            "2   4.0 out of 5 stars      641   9,999  \n",
            "3   4.2 out of 5 stars  215,197  14,999  \n",
            "4   3.7 out of 5 stars       28   9,901  \n",
            "..                 ...      ...     ...  \n",
            "75  3.1 out of 5 stars        7  13,999  \n",
            "76  4.3 out of 5 stars      152  25,999  \n",
            "77  3.7 out of 5 stars      219  14,999  \n",
            "78  1.0 out of 5 stars        1  20,499  \n",
            "79  4.2 out of 5 stars    6,265  24,999  \n",
            "\n",
            "[80 rows x 5 columns]\n"
          ]
        }
      ]
    }
  ]
}