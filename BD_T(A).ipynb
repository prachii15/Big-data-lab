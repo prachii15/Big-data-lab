{
  "nbformat": 4,
  "nbformat_minor": 0,
  "metadata": {
    "colab": {
      "provenance": [],
      "authorship_tag": "ABX9TyMjIZrIEv/QB8jKpS87ZRXG",
      "include_colab_link": true
    },
    "kernelspec": {
      "name": "python3",
      "display_name": "Python 3"
    },
    "language_info": {
      "name": "python"
    }
  },
  "cells": [
    {
      "cell_type": "markdown",
      "metadata": {
        "id": "view-in-github",
        "colab_type": "text"
      },
      "source": [
        "<a href=\"https://colab.research.google.com/github/prachii15/Big-data-lab/blob/main/BD_T(A).ipynb\" target=\"_parent\"><img src=\"https://colab.research.google.com/assets/colab-badge.svg\" alt=\"Open In Colab\"/></a>"
      ]
    },
    {
      "cell_type": "markdown",
      "source": [
        "# Assignment 1"
      ],
      "metadata": {
        "id": "PNqwJXnBlGNb"
      }
    },
    {
      "cell_type": "markdown",
      "source": [
        "## Task A: Develop Python code to perform block multiplication on two given matrices."
      ],
      "metadata": {
        "id": "ebaPVpsuhkeG"
      }
    },
    {
      "cell_type": "code",
      "source": [
        "import numpy as np\n",
        "\n",
        "def b_multiply(a, b, b_size):\n",
        "    r_a, c_a, c_b = len(a), len(a[0]), len(b[0])\n",
        "    result = np.zeros((r_a, c_b))\n",
        "\n",
        "    for i in range(0, r_a, b_size):\n",
        "        for j in range(0, c_b, b_size):\n",
        "            for k in range(0, c_a, b_size):\n",
        "                block_a = a[i:i+b_size, k:k+b_size]\n",
        "                block_b = b[k:k+b_size, j:j+b_size]\n",
        "                result[i:i+b_size, j:j+b_size] += np.dot(block_a, block_b)\n",
        "\n",
        "    return result.tolist()\n",
        "\n",
        "def print_matrix(matrix, label):\n",
        "    print(f\"\\nMatrix {label}:\")\n",
        "    for row in matrix:\n",
        "        print(row)\n",
        "\n",
        "n = int(input(\"Please enter the number: \"))\n",
        "c = 2 * n\n",
        "d = 2 * n\n",
        "\n",
        "# Generate random matrices\n",
        "a = np.random.randint(100, size=(c, d))\n",
        "b = np.random.randint(100, size=(c, d))\n",
        "\n",
        "print_matrix(a, \"A\")\n",
        "print_matrix(b, \"B\")\n",
        "\n",
        "b_size = n\n",
        "result = b_multiply(a, b, b_size)\n",
        "\n",
        "print_matrix(result, \"Result\")\n"
      ],
      "metadata": {
        "colab": {
          "base_uri": "https://localhost:8080/"
        },
        "id": "MbFs9cpldC86",
        "outputId": "84fd7564-f63e-4f9b-c2dd-b9f8e76c85a1"
      },
      "execution_count": null,
      "outputs": [
        {
          "output_type": "stream",
          "name": "stdout",
          "text": [
            "Please enter the number: 2\n",
            "\n",
            "Matrix A:\n",
            "[85 17 36 24]\n",
            "[76 52 95 80]\n",
            "[11 47 13 27]\n",
            "[91 49 89 17]\n",
            "\n",
            "Matrix B:\n",
            "[58 79 82 92]\n",
            "[63 89 55 58]\n",
            "[79 53 68 75]\n",
            "[23  8 36 87]\n",
            "\n",
            "Matrix Result:\n",
            "[9397.0, 10328.0, 11217.0, 13594.0]\n",
            "[17029.0, 16307.0, 18432.0, 24093.0]\n",
            "[5247.0, 5957.0, 5343.0, 7062.0]\n",
            "[15787.0, 16403.0, 16821.0, 19368.0]\n"
          ]
        }
      ]
    }
  ]
}