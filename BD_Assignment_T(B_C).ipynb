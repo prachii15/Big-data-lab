{
  "nbformat": 4,
  "nbformat_minor": 0,
  "metadata": {
    "colab": {
      "provenance": [],
      "authorship_tag": "ABX9TyNK8rXnaol8aESHAKan0ebZ",
      "include_colab_link": true
    },
    "kernelspec": {
      "name": "python3",
      "display_name": "Python 3"
    },
    "language_info": {
      "name": "python"
    }
  },
  "cells": [
    {
      "cell_type": "markdown",
      "metadata": {
        "id": "view-in-github",
        "colab_type": "text"
      },
      "source": [
        "<a href=\"https://colab.research.google.com/github/prachii15/Big-data-lab/blob/main/BD_Assignment_T(B_C).ipynb\" target=\"_parent\"><img src=\"https://colab.research.google.com/assets/colab-badge.svg\" alt=\"Open In Colab\"/></a>"
      ]
    },
    {
      "cell_type": "markdown",
      "source": [
        "# Big Data\n",
        "## Assignment 1\n",
        "## Task B & C"
      ],
      "metadata": {
        "id": "gSk7Ti5GQdrj"
      }
    },
    {
      "cell_type": "markdown",
      "source": [
        "## Prachi Mehta (202318008)"
      ],
      "metadata": {
        "id": "yl3BkbC-QmvZ"
      }
    },
    {
      "cell_type": "markdown",
      "source": [
        "Task B: This segment of the assignment is designed to enhance your understanding of the API\n",
        "call process and dataset creation. Utilize any freely available API endpoint on Rapidapi to generate a dataset."
      ],
      "metadata": {
        "id": "RNjClnmDQ2_P"
      }
    },
    {
      "cell_type": "markdown",
      "source": [
        "Task C: In this part of the assignment, you will learn how to construct a dataset by scraping a\n",
        "website online. Utilize BeautifulSoup or any other suitable scraping library to extract all the\n",
        "details of Amazon products and compile a dataset."
      ],
      "metadata": {
        "id": "vdZlN_FEQ5L7"
      }
    },
    {
      "cell_type": "code",
      "source": [
        "from bs4 import BeautifulSoup\n",
        "import requests\n",
        "import pandas as pd"
      ],
      "metadata": {
        "id": "v-pWyuIEGgfP"
      },
      "execution_count": 30,
      "outputs": []
    },
    {
      "cell_type": "code",
      "source": [
        "import requests\n",
        "from bs4 import BeautifulSoup\n",
        "import pandas as pd\n",
        "\n",
        "def get_amazon_page(search_key, page):\n",
        "    base_url = 'https://www.amazon.in/s'\n",
        "    params = {'k': search_key, 'page': page}\n",
        "    response = requests.get(base_url, params=params)\n",
        "    return BeautifulSoup(response.content, 'html.parser')\n",
        "\n",
        "def extract_product_info(product):\n",
        "    brand_name = product.find('h2').text.strip()\n",
        "    rating = product.find('span', class_='a-icon-alt', text=True, recursive=False).text.strip() if product.find('span', class_='a-icon-alt', text=True, recursive=False) else 'N/A'\n",
        "    reviews = product.find('span', class_='a-size-base s-underline-text').text.strip() if product.find('span', class_='a-size-base s-underline-text') else 'N/A'\n",
        "    price = product.find('span', class_='a-price-whole').text.strip() if product.find('span', class_='a-price-whole') else 'N/A'\n",
        "    return {'brand_name': brand_name, 'rating': rating, 'reviews': reviews, 'price': price}\n",
        "\n",
        "def scrape_amazon(search_key, no_pages):\n",
        "    data = []\n",
        "\n",
        "    for page in range(1, no_pages + 1):\n",
        "        soup = get_amazon_page(search_key, page)\n",
        "        product_containers = soup.find_all('div', class_='puis-card-container s-card-container s-overflow-hidden aok-relative puis-include-content-margin puis puis-v1x9xtdrqwkf2b2sy3gv3bhvhpn s-latency-cf-section puis-card-border')\n",
        "\n",
        "        for product in product_containers:\n",
        "            data.append(extract_product_info(product))\n",
        "\n",
        "    return pd.DataFrame(data)\n",
        "\n",
        "# Example usage\n",
        "search_key = 'redmi'\n",
        "no_pages_to_scrape = 45\n",
        "df = scrape_amazon(search_key, no_pages_to_scrape)\n",
        "print(df)\n",
        "\n",
        "output_csv_path = 'redmi.csv'\n",
        "df.to_csv(output_csv_path, index=True)\n",
        "\n",
        "df_read = pd.read_csv(output_csv_path)\n",
        "print(df_read)\n"
      ],
      "metadata": {
        "colab": {
          "base_uri": "https://localhost:8080/"
        },
        "id": "jhpY5PlOWsb1",
        "outputId": "c5dbf248-226e-4efd-9b84-c2ff228dd84d"
      },
      "execution_count": 34,
      "outputs": [
        {
          "output_type": "stream",
          "name": "stderr",
          "text": [
            "<ipython-input-34-9042a6cd5db0>:13: DeprecationWarning: The 'text' argument to find()-type methods is deprecated. Use 'string' instead.\n",
            "  rating = product.find('span', class_='a-icon-alt', text=True, recursive=False).text.strip() if product.find('span', class_='a-icon-alt', text=True, recursive=False) else 'N/A'\n"
          ]
        },
        {
          "output_type": "stream",
          "name": "stdout",
          "text": [
            "                                           brand_name rating reviews   price\n",
            "0   Redmi 11 Prime 5G (Meadow Green, 6GB RAM, 128G...    N/A   8,925  14,999\n",
            "1       Xiaomi Redmi Go Phone (Black, 16 GB 1 GB RAM)    N/A     513   5,500\n",
            "2   realme narzo 50i Prime (Mint Green 4GB RAM+64G...    N/A   8,438   6,749\n",
            "3   (Refurbished) Redmi Note 10 (Frost White, 4GB ...    N/A      22   7,595\n",
            "4   Xiaomi Redmi 10A Sport (Charcoal Black, 6GB RA...    N/A   2,778  10,999\n",
            "5   (Refurbished) Redmi 12C (Mint Green, 6GB RAM, ...    N/A      52   7,999\n",
            "6   (Refurbished) Redmi 12C (Royal Blue, 4GB RAM, ...    N/A       1   7,499\n",
            "7     Redmi Xiaomi Note 7 Pro Phone (Blue, 4GB, 64GB)    N/A   1,431  10,980\n",
            "8   Redmi A2 (Aqua Blue, 2GB RAM, 32GB Storage) | ...    N/A   7,497   5,799\n",
            "9   TECNO Pova 5 Pro 5G (Silver Fantasy, 8GB RAM,2...    N/A   3,475  15,999\n",
            "10  (Refurbished) Redmi Note 11 Pro + 5G (Stealth ...    N/A     295  15,999\n",
            "11  (Renewed) Redmi 5A MCI3B (Grey, 2GB RAM, 16GB ...    N/A      77   4,890\n",
            "12  Redmi Note 12 Pro 5G (Onyx Black, 12GB RAM, 25...    N/A      28     N/A\n",
            "13  realme narzo N53 (Feather Black, 4GB+64GB) 33W...    N/A  12,883   7,999\n",
            "14  Redmi Note 12 Pro 5G (Glacier Blue, 8GB RAM, 2...    N/A     199  24,400\n",
            "15  (Refurbished) Redmi 9i (Nature Green, 4GB RAM,...    N/A     291   6,289\n",
            "    Unnamed: 0                                         brand_name  rating  \\\n",
            "0            0  Redmi 11 Prime 5G (Meadow Green, 6GB RAM, 128G...     NaN   \n",
            "1            1      Xiaomi Redmi Go Phone (Black, 16 GB 1 GB RAM)     NaN   \n",
            "2            2  realme narzo 50i Prime (Mint Green 4GB RAM+64G...     NaN   \n",
            "3            3  (Refurbished) Redmi Note 10 (Frost White, 4GB ...     NaN   \n",
            "4            4  Xiaomi Redmi 10A Sport (Charcoal Black, 6GB RA...     NaN   \n",
            "5            5  (Refurbished) Redmi 12C (Mint Green, 6GB RAM, ...     NaN   \n",
            "6            6  (Refurbished) Redmi 12C (Royal Blue, 4GB RAM, ...     NaN   \n",
            "7            7    Redmi Xiaomi Note 7 Pro Phone (Blue, 4GB, 64GB)     NaN   \n",
            "8            8  Redmi A2 (Aqua Blue, 2GB RAM, 32GB Storage) | ...     NaN   \n",
            "9            9  TECNO Pova 5 Pro 5G (Silver Fantasy, 8GB RAM,2...     NaN   \n",
            "10          10  (Refurbished) Redmi Note 11 Pro + 5G (Stealth ...     NaN   \n",
            "11          11  (Renewed) Redmi 5A MCI3B (Grey, 2GB RAM, 16GB ...     NaN   \n",
            "12          12  Redmi Note 12 Pro 5G (Onyx Black, 12GB RAM, 25...     NaN   \n",
            "13          13  realme narzo N53 (Feather Black, 4GB+64GB) 33W...     NaN   \n",
            "14          14  Redmi Note 12 Pro 5G (Glacier Blue, 8GB RAM, 2...     NaN   \n",
            "15          15  (Refurbished) Redmi 9i (Nature Green, 4GB RAM,...     NaN   \n",
            "\n",
            "   reviews   price  \n",
            "0    8,925  14,999  \n",
            "1      513   5,500  \n",
            "2    8,438   6,749  \n",
            "3       22   7,595  \n",
            "4    2,778  10,999  \n",
            "5       52   7,999  \n",
            "6        1   7,499  \n",
            "7    1,431  10,980  \n",
            "8    7,497   5,799  \n",
            "9    3,475  15,999  \n",
            "10     295  15,999  \n",
            "11      77   4,890  \n",
            "12      28     NaN  \n",
            "13  12,883   7,999  \n",
            "14     199  24,400  \n",
            "15     291   6,289  \n"
          ]
        }
      ]
    }
  ]
}