{
  "cells": [
    {
      "cell_type": "markdown",
      "source": [
        "## Name:- Dhruvi Mehta ,                          ID:- 202318003\n",
        "## Name:- Prachi Mehta ,                          ID:- 202318008\n",
        "## Name:- Simran Dalvi ,                          ID:- 202318042"
      ],
      "metadata": {
        "id": "hPsBfA7IXg5B"
      }
    },
    {
      "cell_type": "markdown",
      "metadata": {
        "id": "aX59yPWni9fV"
      },
      "source": [
        "#### Customer Churn prediction\n",
        "The goal of this project is to build a customer churn prediction model using user interaction logs with an imaginary music streaming service called Sparkify."
      ]
    },
    {
      "cell_type": "markdown",
      "metadata": {
        "id": "pCAwRyoFi9fV"
      },
      "source": [
        "#### Data\n",
        "\n",
        "Sparkify is imaginary digital music service similar to Spotify. The dataset contains 12GB of user interactions with this fictitious music streaming service."
      ]
    },
    {
      "cell_type": "code",
      "source": [
        "pip install pyspark"
      ],
      "metadata": {
        "colab": {
          "base_uri": "https://localhost:8080/"
        },
        "id": "j6upfT9-julM",
        "outputId": "1299ce04-0ecb-4f25-99f9-2945b523f494"
      },
      "execution_count": null,
      "outputs": [
        {
          "output_type": "stream",
          "name": "stdout",
          "text": [
            "Requirement already satisfied: pyspark in /usr/local/lib/python3.10/dist-packages (3.5.1)\n",
            "Requirement already satisfied: py4j==0.10.9.7 in /usr/local/lib/python3.10/dist-packages (from pyspark) (0.10.9.7)\n"
          ]
        }
      ]
    },
    {
      "cell_type": "code",
      "execution_count": null,
      "metadata": {
        "id": "E62g3h5Hi9fW"
      },
      "outputs": [],
      "source": [
        "from pyspark.sql import SparkSession"
      ]
    },
    {
      "cell_type": "markdown",
      "metadata": {
        "id": "KUHsNPxzi9fW"
      },
      "source": [
        "Initialize a spark session"
      ]
    },
    {
      "cell_type": "code",
      "execution_count": null,
      "metadata": {
        "colab": {
          "base_uri": "https://localhost:8080/",
          "height": 219
        },
        "id": "O7DWnJA8i9fW",
        "outputId": "1cd9acbd-4238-46ff-a5ac-ceca87adc4fe"
      },
      "outputs": [
        {
          "output_type": "execute_result",
          "data": {
            "text/plain": [
              "<pyspark.sql.session.SparkSession at 0x78317639ab90>"
            ],
            "text/html": [
              "\n",
              "            <div>\n",
              "                <p><b>SparkSession - in-memory</b></p>\n",
              "                \n",
              "        <div>\n",
              "            <p><b>SparkContext</b></p>\n",
              "\n",
              "            <p><a href=\"http://4414a78a5f1f:4040\">Spark UI</a></p>\n",
              "\n",
              "            <dl>\n",
              "              <dt>Version</dt>\n",
              "                <dd><code>v3.5.1</code></dd>\n",
              "              <dt>Master</dt>\n",
              "                <dd><code>local[*]</code></dd>\n",
              "              <dt>AppName</dt>\n",
              "                <dd><code>sparkify</code></dd>\n",
              "            </dl>\n",
              "        </div>\n",
              "        \n",
              "            </div>\n",
              "        "
            ]
          },
          "metadata": {},
          "execution_count": 117
        }
      ],
      "source": [
        "spark = SparkSession.builder.master(\"local[*]\").appName(\"sparkify\").getOrCreate()\n",
        "spark"
      ]
    },
    {
      "cell_type": "markdown",
      "metadata": {
        "id": "RSM2ttHXi9fW"
      },
      "source": [
        "Read the data"
      ]
    },
    {
      "cell_type": "code",
      "source": [
        "data = spark.read.json(\"/content/mini_sparkify_event_data.json\")"
      ],
      "metadata": {
        "id": "Jp1dx-btnTIg"
      },
      "execution_count": null,
      "outputs": []
    },
    {
      "cell_type": "markdown",
      "metadata": {
        "id": "vhKqx5POi9fX"
      },
      "source": [
        "Look at the columns"
      ]
    },
    {
      "cell_type": "code",
      "execution_count": null,
      "metadata": {
        "colab": {
          "base_uri": "https://localhost:8080/"
        },
        "id": "paftKb4qi9fX",
        "outputId": "0df45c67-3276-4cd4-d2fb-0401c14c2156"
      },
      "outputs": [
        {
          "output_type": "stream",
          "name": "stdout",
          "text": [
            "root\n",
            " |-- _corrupt_record: string (nullable = true)\n",
            " |-- artist: string (nullable = true)\n",
            " |-- auth: string (nullable = true)\n",
            " |-- firstName: string (nullable = true)\n",
            " |-- gender: string (nullable = true)\n",
            " |-- itemInSession: long (nullable = true)\n",
            " |-- lastName: string (nullable = true)\n",
            " |-- length: double (nullable = true)\n",
            " |-- level: string (nullable = true)\n",
            " |-- location: string (nullable = true)\n",
            " |-- method: string (nullable = true)\n",
            " |-- page: string (nullable = true)\n",
            " |-- registration: long (nullable = true)\n",
            " |-- sessionId: long (nullable = true)\n",
            " |-- song: string (nullable = true)\n",
            " |-- status: long (nullable = true)\n",
            " |-- ts: long (nullable = true)\n",
            " |-- userAgent: string (nullable = true)\n",
            " |-- userId: string (nullable = true)\n",
            "\n"
          ]
        }
      ],
      "source": [
        "data.printSchema()"
      ]
    },
    {
      "cell_type": "markdown",
      "metadata": {
        "id": "E0NzrZVOi9fX"
      },
      "source": [
        "Look at the data, we will do a vertical show"
      ]
    },
    {
      "cell_type": "code",
      "execution_count": null,
      "metadata": {
        "colab": {
          "base_uri": "https://localhost:8080/"
        },
        "id": "lreKxwd0i9fX",
        "outputId": "0a3e795e-d1ec-4ffe-c8e3-bf15f194a271"
      },
      "outputs": [
        {
          "output_type": "stream",
          "name": "stdout",
          "text": [
            "-RECORD 0-------------------------------\n",
            " _corrupt_record | NULL                 \n",
            " artist          | Martha Tilston       \n",
            " auth            | Logged In            \n",
            " firstName       | Colin                \n",
            " gender          | M                    \n",
            " itemInSession   | 50                   \n",
            " lastName        | Freeman              \n",
            " length          | 277.89016            \n",
            " level           | paid                 \n",
            " location        | Bakersfield, CA      \n",
            " method          | PUT                  \n",
            " page            | NextSong             \n",
            " registration    | 1538173362000        \n",
            " sessionId       | 29                   \n",
            " song            | Rockpools            \n",
            " status          | 200                  \n",
            " ts              | 1538352117000        \n",
            " userAgent       | Mozilla/5.0 (Wind... \n",
            " userId          | 30                   \n",
            "-RECORD 1-------------------------------\n",
            " _corrupt_record | NULL                 \n",
            " artist          | Five Iron Frenzy     \n",
            " auth            | Logged In            \n",
            " firstName       | Micah                \n",
            " gender          | M                    \n",
            " itemInSession   | 79                   \n",
            " lastName        | Long                 \n",
            " length          | 236.09424            \n",
            " level           | free                 \n",
            " location        | Boston-Cambridge-... \n",
            " method          | PUT                  \n",
            " page            | NextSong             \n",
            " registration    | 1538331630000        \n",
            " sessionId       | 8                    \n",
            " song            | Canada               \n",
            " status          | 200                  \n",
            " ts              | 1538352180000        \n",
            " userAgent       | \"Mozilla/5.0 (Win... \n",
            " userId          | 9                    \n",
            "only showing top 2 rows\n",
            "\n"
          ]
        }
      ],
      "source": [
        "data.show(vertical=True, n=2)"
      ]
    },
    {
      "cell_type": "markdown",
      "metadata": {
        "id": "vc57FwIAi9fX"
      },
      "source": [
        "The most important column in the data set seems to be the `Page` column. It holds all Sparkify pages that the customers have visited."
      ]
    },
    {
      "cell_type": "code",
      "execution_count": null,
      "metadata": {
        "colab": {
          "base_uri": "https://localhost:8080/"
        },
        "id": "szdko0B9i9fX",
        "outputId": "4b718ea8-fd43-4048-9fb2-c7234173b805"
      },
      "outputs": [
        {
          "output_type": "stream",
          "name": "stdout",
          "text": [
            "+-------------------------+\n",
            "|page                     |\n",
            "+-------------------------+\n",
            "|Cancel                   |\n",
            "|Submit Downgrade         |\n",
            "|Thumbs Down              |\n",
            "|Home                     |\n",
            "|Downgrade                |\n",
            "|Roll Advert              |\n",
            "|Logout                   |\n",
            "|Save Settings            |\n",
            "|Cancellation Confirmation|\n",
            "|About                    |\n",
            "|Submit Registration      |\n",
            "|Settings                 |\n",
            "|Login                    |\n",
            "|Register                 |\n",
            "|Add to Playlist          |\n",
            "|Add Friend               |\n",
            "|NextSong                 |\n",
            "|Thumbs Up                |\n",
            "|Help                     |\n",
            "|Upgrade                  |\n",
            "+-------------------------+\n",
            "only showing top 20 rows\n",
            "\n"
          ]
        }
      ],
      "source": [
        "data.select(\"page\").dropDuplicates().show(20, False)"
      ]
    },
    {
      "cell_type": "markdown",
      "metadata": {
        "id": "kQFE02mhi9fX"
      },
      "source": [
        "From the list above we can use the `Cancellation Confirmation` to indicate if a particular user churned or not. We are building a model that predicts if a user is going to churn given the history of interactions with the service.\n",
        "\n",
        "Therfore, it is important to understand the customers that reached the `Cancellation Confirmation` page. These are the customers that churned, and the task is to build a prediction model that can recognize them."
      ]
    },
    {
      "cell_type": "markdown",
      "metadata": {
        "id": "tYq9Opjhi9fX"
      },
      "source": [
        "## Data cleaning"
      ]
    },
    {
      "cell_type": "markdown",
      "metadata": {
        "id": "giKB9SLsi9fY"
      },
      "source": [
        "Now that we indentified our \"goal\", we can let go of some of the columns that are not needed for further analysis."
      ]
    },
    {
      "cell_type": "code",
      "execution_count": null,
      "metadata": {
        "colab": {
          "base_uri": "https://localhost:8080/"
        },
        "id": "xlya3TbDi9fY",
        "outputId": "6e7c19db-e9c1-44d7-e728-ece38d2e78be"
      },
      "outputs": [
        {
          "output_type": "stream",
          "name": "stdout",
          "text": [
            "-RECORD 0-------------------------------\n",
            " _corrupt_record | NULL                 \n",
            " artist          | Martha Tilston       \n",
            " auth            | Logged In            \n",
            " gender          | M                    \n",
            " itemInSession   | 50                   \n",
            " length          | 277.89016            \n",
            " level           | paid                 \n",
            " location        | Bakersfield, CA      \n",
            " method          | PUT                  \n",
            " page            | NextSong             \n",
            " registration    | 1538173362000        \n",
            " sessionId       | 29                   \n",
            " song            | Rockpools            \n",
            " status          | 200                  \n",
            " ts              | 1538352117000        \n",
            " userAgent       | Mozilla/5.0 (Wind... \n",
            " userId          | 30                   \n",
            "-RECORD 1-------------------------------\n",
            " _corrupt_record | NULL                 \n",
            " artist          | Five Iron Frenzy     \n",
            " auth            | Logged In            \n",
            " gender          | M                    \n",
            " itemInSession   | 79                   \n",
            " length          | 236.09424            \n",
            " level           | free                 \n",
            " location        | Boston-Cambridge-... \n",
            " method          | PUT                  \n",
            " page            | NextSong             \n",
            " registration    | 1538331630000        \n",
            " sessionId       | 8                    \n",
            " song            | Canada               \n",
            " status          | 200                  \n",
            " ts              | 1538352180000        \n",
            " userAgent       | \"Mozilla/5.0 (Win... \n",
            " userId          | 9                    \n",
            "only showing top 2 rows\n",
            "\n"
          ]
        }
      ],
      "source": [
        "data = data.drop(*['firstName', 'lastName', 'id_copy'])\n",
        "data.show(vertical=True, n=2)"
      ]
    },
    {
      "cell_type": "markdown",
      "metadata": {
        "id": "eVKJU30Ii9fY"
      },
      "source": [
        "Since we are building a model that focuses on a user, remove any null/na values in the userID"
      ]
    },
    {
      "cell_type": "code",
      "execution_count": null,
      "metadata": {
        "id": "HY05mJbUi9fY"
      },
      "outputs": [],
      "source": [
        "from pyspark.sql.functions import isnan, isnull"
      ]
    },
    {
      "cell_type": "code",
      "execution_count": null,
      "metadata": {
        "colab": {
          "base_uri": "https://localhost:8080/"
        },
        "id": "YL5fZP2ei9fY",
        "outputId": "b5f9d473-1637-49d5-ddbd-53aa4d602301"
      },
      "outputs": [
        {
          "output_type": "execute_result",
          "data": {
            "text/plain": [
              "8471"
            ]
          },
          "metadata": {},
          "execution_count": 124
        }
      ],
      "source": [
        "data.filter((isnan(data['userId'])) | (data['userId'].isNull()) | (data['userId'] == \"\")).count()"
      ]
    },
    {
      "cell_type": "code",
      "execution_count": null,
      "metadata": {
        "colab": {
          "base_uri": "https://localhost:8080/"
        },
        "id": "wroElRQvi9fY",
        "outputId": "6d732a27-ea43-4e0e-ae67-f26b0cfeed60"
      },
      "outputs": [
        {
          "output_type": "execute_result",
          "data": {
            "text/plain": [
              "8469"
            ]
          },
          "metadata": {},
          "execution_count": 125
        }
      ],
      "source": [
        "data.filter((data['userId'] == \"\")).count()"
      ]
    },
    {
      "cell_type": "code",
      "source": [],
      "metadata": {
        "id": "fOthA72prIrC"
      },
      "execution_count": null,
      "outputs": []
    },
    {
      "cell_type": "code",
      "source": [
        "data = data.filter(data[\"userId\"] != \"\")\n",
        "data.filter((isnan(data['userId'])) | (data['userId'].isNull()) | (data['userId'] == \"\")).count()"
      ],
      "metadata": {
        "colab": {
          "base_uri": "https://localhost:8080/"
        },
        "id": "9cGxEVDfqCTI",
        "outputId": "b5263d77-c3c3-4fb5-dffc-431929acde19"
      },
      "execution_count": null,
      "outputs": [
        {
          "output_type": "execute_result",
          "data": {
            "text/plain": [
              "0"
            ]
          },
          "metadata": {},
          "execution_count": 132
        }
      ]
    },
    {
      "cell_type": "markdown",
      "metadata": {
        "id": "5Q0bi0I1i9fY"
      },
      "source": [
        "The times in `registration` and `ts` column are given in milliseconds, we will convert those to seconds. Before that, we will remove any with null values."
      ]
    },
    {
      "cell_type": "code",
      "execution_count": null,
      "metadata": {
        "id": "4zZ2BZe0i9fY"
      },
      "outputs": [],
      "source": [
        "data = data.filter(data['registration'].isNotNull())"
      ]
    },
    {
      "cell_type": "code",
      "execution_count": null,
      "metadata": {
        "id": "Hgmmdhq5i9fY"
      },
      "outputs": [],
      "source": [
        "from pyspark.sql.types import DoubleType\n",
        "import pyspark.sql.functions as F"
      ]
    },
    {
      "cell_type": "code",
      "execution_count": null,
      "metadata": {
        "colab": {
          "base_uri": "https://localhost:8080/"
        },
        "id": "DYDtAnwji9fZ",
        "outputId": "de34e2af-6200-427b-a0c1-d719d40f8676"
      },
      "outputs": [
        {
          "output_type": "stream",
          "name": "stdout",
          "text": [
            "+------------+------------------+\n",
            "|registration|                ts|\n",
            "+------------+------------------+\n",
            "| 1538.173362|1538.3521170000001|\n",
            "|  1538.33163|1538.3521799999999|\n",
            "| 1538.173362|       1538.352394|\n",
            "|  1538.33163|       1538.352416|\n",
            "| 1538.173362|       1538.352676|\n",
            "|  1538.33163|       1538.352678|\n",
            "|  1538.33163|       1538.352886|\n",
            "| 1538.173362|       1538.352899|\n",
            "| 1538.173362|       1538.352905|\n",
            "| 1538.173362|       1538.353084|\n",
            "|  1538.33163|       1538.353146|\n",
            "|  1538.33163|        1538.35315|\n",
            "| 1538.173362|1538.3532180000002|\n",
            "|  1538.33163|       1538.353375|\n",
            "|  1538.33163|       1538.353376|\n",
            "| 1538.173362|1538.3534410000002|\n",
            "|  1538.33163|       1538.353576|\n",
            "| 1537.365219|       1538.353668|\n",
            "| 1538.173362|1538.3536869999998|\n",
            "|  1538.33163|       1538.353744|\n",
            "+------------+------------------+\n",
            "only showing top 20 rows\n",
            "\n"
          ]
        }
      ],
      "source": [
        "time_unit_udf = F.udf(lambda x: float(x/1000), DoubleType())\n",
        "data = data.withColumn(\"registration\", time_unit_udf(\"registration\")). \\\n",
        "    withColumn(\"ts\", time_unit_udf(\"ts\"))\n",
        "\n",
        "data.select('registration', 'ts').show()"
      ]
    },
    {
      "cell_type": "markdown",
      "metadata": {
        "id": "6DeUokhli9fZ"
      },
      "source": [
        "#### Label"
      ]
    },
    {
      "cell_type": "markdown",
      "metadata": {
        "id": "qJM7faK2i9fZ"
      },
      "source": [
        "As mentioned above we are deriving the label `churn` as a function of the `Page` column. There are only two values to churn, churned or not churned. Therefore this is going to be a boolean column represented by 1 for churned and 0 for not churned."
      ]
    },
    {
      "cell_type": "code",
      "execution_count": null,
      "metadata": {
        "id": "DPyJtJAsi9fZ"
      },
      "outputs": [],
      "source": [
        "from pyspark.sql.types import IntegerType"
      ]
    },
    {
      "cell_type": "code",
      "execution_count": null,
      "metadata": {
        "colab": {
          "base_uri": "https://localhost:8080/"
        },
        "id": "JtrbMuUIi9fZ",
        "outputId": "f97fba51-8c85-41b8-ae7f-b61f2aa52afa"
      },
      "outputs": [
        {
          "output_type": "stream",
          "name": "stdout",
          "text": [
            "+-------+-----+\n",
            "|summary|churn|\n",
            "+-------+-----+\n",
            "|  count|    0|\n",
            "|   mean| NULL|\n",
            "| stddev| NULL|\n",
            "|    min| NULL|\n",
            "|    max| NULL|\n",
            "+-------+-----+\n",
            "\n"
          ]
        }
      ],
      "source": [
        "cancelation_event_udf = F.udf(lambda x: 1 if x == \"Cancellation Confirmation\" else 0, IntegerType())\n",
        "data = data.withColumn(\"churn\", cancelation_event_udf(\"page\"))\n",
        "data.filter(data['userId'] == 1749042).describe('churn').show()"
      ]
    },
    {
      "cell_type": "markdown",
      "metadata": {
        "id": "viRBV-8mi9fZ"
      },
      "source": [
        "The problem here is that a particular user will have multiple entries, since this is a database of user activities log. A user may have visitied number of other pages before reaching the \"Cancellation\" page. For a user that has churned, we want to make sure that all of his/her logs record 1 for the churn column. For this we will use the Window function from `sql.window`.\n",
        "\n",
        "For example, user `1749042` above has entries labeled as both churned (1) and not churned (0). We need to make sure that all of his/her entries are labeled as churned. It only takes that one \"Cancellation Confirmation\" to make a user churn."
      ]
    },
    {
      "cell_type": "code",
      "execution_count": null,
      "metadata": {
        "id": "cY-Z3SzDi9fZ"
      },
      "outputs": [],
      "source": [
        "from pyspark.sql.window import Window\n",
        "from pyspark.sql.functions import sum as Fsum"
      ]
    },
    {
      "cell_type": "code",
      "execution_count": null,
      "metadata": {
        "id": "DJtdL-CBi9fa"
      },
      "outputs": [],
      "source": [
        "window = Window.partitionBy(\"userId\") \\\n",
        "        .rangeBetween(Window.unboundedPreceding,\n",
        "                      Window.unboundedFollowing)\n",
        "data = data.withColumn(\"churn\", Fsum(\"churn\").over(window))\n"
      ]
    },
    {
      "cell_type": "code",
      "execution_count": null,
      "metadata": {
        "colab": {
          "base_uri": "https://localhost:8080/"
        },
        "id": "3NbOWtbhi9fa",
        "outputId": "9f27df26-7a54-4f3b-84f9-518b4bf16da5"
      },
      "outputs": [
        {
          "output_type": "stream",
          "name": "stdout",
          "text": [
            "+-------+-----+\n",
            "|summary|churn|\n",
            "+-------+-----+\n",
            "|  count|    0|\n",
            "|   mean| NULL|\n",
            "| stddev| NULL|\n",
            "|    min| NULL|\n",
            "|    max| NULL|\n",
            "+-------+-----+\n",
            "\n"
          ]
        }
      ],
      "source": [
        "data.filter(data['userId'] == 1749042).describe('churn').show()"
      ]
    },
    {
      "cell_type": "markdown",
      "metadata": {
        "id": "0uhgHYjfi9fa"
      },
      "source": [
        "Let's see how many unique users we have"
      ]
    },
    {
      "cell_type": "code",
      "execution_count": null,
      "metadata": {
        "colab": {
          "base_uri": "https://localhost:8080/"
        },
        "id": "jehFaUYOi9fa",
        "outputId": "aee6f65a-76d2-4bce-bc63-e36401aa29a1"
      },
      "outputs": [
        {
          "output_type": "execute_result",
          "data": {
            "text/plain": [
              "225"
            ]
          },
          "metadata": {},
          "execution_count": 143
        }
      ],
      "source": [
        "data.select(\"userID\").dropDuplicates().count()"
      ]
    },
    {
      "cell_type": "markdown",
      "metadata": {
        "id": "VBWRhN5hi9fa"
      },
      "source": [
        "The total churn instances, again a user has multiple entries here"
      ]
    },
    {
      "cell_type": "code",
      "execution_count": null,
      "metadata": {
        "colab": {
          "base_uri": "https://localhost:8080/"
        },
        "id": "_bMaFLHdi9fe",
        "outputId": "e498990a-bdd0-403b-c111-2ebdc9175756"
      },
      "outputs": [
        {
          "output_type": "execute_result",
          "data": {
            "text/plain": [
              "44864"
            ]
          },
          "metadata": {},
          "execution_count": 144
        }
      ],
      "source": [
        "data.filter(data['churn'] == 1).count()"
      ]
    },
    {
      "cell_type": "markdown",
      "metadata": {
        "id": "gZq3ZZBpi9fe"
      },
      "source": [
        "Now let's create a label dataframe that has one entry per each user"
      ]
    },
    {
      "cell_type": "code",
      "execution_count": null,
      "metadata": {
        "id": "yVfDx5Q1i9fe"
      },
      "outputs": [],
      "source": [
        "from pyspark.sql.functions import col"
      ]
    },
    {
      "cell_type": "code",
      "execution_count": null,
      "metadata": {
        "colab": {
          "base_uri": "https://localhost:8080/"
        },
        "id": "mM0rtTbOi9fe",
        "outputId": "92daab11-eba3-4d03-b2e4-c1fe81c43206"
      },
      "outputs": [
        {
          "output_type": "stream",
          "name": "stdout",
          "text": [
            "+------+-----+\n",
            "|userId|label|\n",
            "+------+-----+\n",
            "|    10|    0|\n",
            "|   100|    0|\n",
            "|100001|    1|\n",
            "|100002|    0|\n",
            "|100003|    1|\n",
            "|100004|    0|\n",
            "|100005|    1|\n",
            "|100006|    1|\n",
            "|100007|    1|\n",
            "|100008|    0|\n",
            "|100009|    1|\n",
            "|100010|    0|\n",
            "|100011|    1|\n",
            "|100012|    1|\n",
            "|100013|    1|\n",
            "|100014|    1|\n",
            "|100015|    1|\n",
            "|100016|    0|\n",
            "|100017|    1|\n",
            "|100018|    0|\n",
            "+------+-----+\n",
            "only showing top 20 rows\n",
            "\n"
          ]
        }
      ],
      "source": [
        "label = data \\\n",
        "    .select('userId', col('churn').alias('label')) \\\n",
        "    .dropDuplicates()\n",
        "label.show()"
      ]
    },
    {
      "cell_type": "markdown",
      "metadata": {
        "id": "Am_tfdN9i9fe"
      },
      "source": [
        "## Feature engineering"
      ]
    },
    {
      "cell_type": "markdown",
      "metadata": {
        "id": "Ph0IgPxhi9fe"
      },
      "source": [
        "Users that have been using the service tend to stay with the service, even as a paying customer, than those that recently signed up.\n",
        "\n",
        "Every company selling products and services to customers have an idea of a \"lifetime value\" of a customer. With that in mind we create our first feature.\n",
        "\n",
        "We converted the times to seconds above. After gaining the lifetime of a user, we convert that to days."
      ]
    },
    {
      "cell_type": "code",
      "execution_count": null,
      "metadata": {
        "id": "TU_qeT58i9fe"
      },
      "outputs": [],
      "source": [
        "from pyspark.sql.functions import sum as Fsum, col"
      ]
    },
    {
      "cell_type": "code",
      "execution_count": null,
      "metadata": {
        "id": "_9OfQdLii9fe"
      },
      "outputs": [],
      "source": [
        "time_since_registration = data \\\n",
        "    .select('userId', 'registration', 'ts') \\\n",
        "    .withColumn('lifetime', (data.ts - data.registration)) \\\n",
        "    .groupBy('userId') \\\n",
        "    .agg({'lifetime': 'max'}) \\\n",
        "    .withColumnRenamed('max(lifetime)', 'lifetime') \\\n",
        "    .select('userId', (col('lifetime') / 3600 / 24).alias('lifetime'))"
      ]
    },
    {
      "cell_type": "code",
      "execution_count": null,
      "metadata": {
        "colab": {
          "base_uri": "https://localhost:8080/"
        },
        "id": "NwZ0XPx4i9fe",
        "outputId": "6bd87692-d944-4c90-c54f-ed2ecbc57bad"
      },
      "outputs": [
        {
          "output_type": "stream",
          "name": "stdout",
          "text": [
            "+-------+--------------------+\n",
            "|summary|            lifetime|\n",
            "+-------+--------------------+\n",
            "|  count|                 225|\n",
            "|   mean|7.984568348765434E-5|\n",
            "| stddev|3.766147001861257E-5|\n",
            "|    min|3.137268518492596...|\n",
            "|    max|2.563776736111096...|\n",
            "+-------+--------------------+\n",
            "\n"
          ]
        }
      ],
      "source": [
        "time_since_registration.describe('lifetime').show()"
      ]
    },
    {
      "cell_type": "markdown",
      "metadata": {
        "id": "LPlMUNUri9ff"
      },
      "source": [
        "Bussiness big and small not only rely on their customers coming back for more good and services, but also referring the bussiness to their friends and family. It is in our nature to refer things that we like. With this idea in mind we will create another feature.\n",
        "\n",
        "Again we will user the \"Page\" column specifically looking for the `Add Friend` page."
      ]
    },
    {
      "cell_type": "code",
      "execution_count": null,
      "metadata": {
        "id": "65YnFiJri9ff"
      },
      "outputs": [],
      "source": [
        "referring_friends = data \\\n",
        "    .select('userID', 'page') \\\n",
        "    .where(data.page == 'Add Friend') \\\n",
        "    .groupBy('userID') \\\n",
        "    .count() \\\n",
        "    .withColumnRenamed('count', 'add_friend')"
      ]
    },
    {
      "cell_type": "code",
      "execution_count": null,
      "metadata": {
        "colab": {
          "base_uri": "https://localhost:8080/"
        },
        "id": "JVJwvblEi9ff",
        "outputId": "ce391aa5-8e49-4eee-e8b5-5d792ae4170f"
      },
      "outputs": [
        {
          "output_type": "stream",
          "name": "stdout",
          "text": [
            "+-------+------------------+\n",
            "|summary|        add_friend|\n",
            "+-------+------------------+\n",
            "|  count|               206|\n",
            "|   mean|21.145631067961165|\n",
            "| stddev| 20.97636661648244|\n",
            "|    min|                 1|\n",
            "|    max|               143|\n",
            "+-------+------------------+\n",
            "\n"
          ]
        }
      ],
      "source": [
        "referring_friends.describe('add_friend').show()"
      ]
    },
    {
      "cell_type": "markdown",
      "metadata": {
        "id": "QvfFEUCai9ff"
      },
      "source": [
        "The more songs a user listens to, the more likely they are to enjoy the streaming service and keep their subscription. Thus we add a `total_songs_listened` feature."
      ]
    },
    {
      "cell_type": "code",
      "execution_count": null,
      "metadata": {
        "id": "NreMzoADi9ff"
      },
      "outputs": [],
      "source": [
        "# total songs listened\n",
        "total_songs_listened = data \\\n",
        "    .select('userID', 'song') \\\n",
        "    .groupBy('userID') \\\n",
        "    .count() \\\n",
        "    .withColumnRenamed('count', 'total_songs')"
      ]
    },
    {
      "cell_type": "code",
      "execution_count": null,
      "metadata": {
        "colab": {
          "base_uri": "https://localhost:8080/"
        },
        "id": "3x4dN33Di9ff",
        "outputId": "931c400c-4bb7-4416-b9f2-6e7437c22418"
      },
      "outputs": [
        {
          "output_type": "stream",
          "name": "stdout",
          "text": [
            "+-------+------------------+\n",
            "|summary|       total_songs|\n",
            "+-------+------------------+\n",
            "|  count|               225|\n",
            "|   mean|1256.3022222222223|\n",
            "| stddev|1349.8711205824577|\n",
            "|    min|                 6|\n",
            "|    max|              9787|\n",
            "+-------+------------------+\n",
            "\n"
          ]
        }
      ],
      "source": [
        "total_songs_listened.describe('total_songs').show()"
      ]
    },
    {
      "cell_type": "markdown",
      "metadata": {
        "id": "pejfrMUii9ff"
      },
      "source": [
        "The more songs a user liked on the streaming service, the more it potentially implies that they enjoy their subscription\n",
        "and the value they get from it. They are more likely to keep their subscription if they are liking more songs. Thus we create a feature to count the number of songs a user gives a thumbs_up to."
      ]
    },
    {
      "cell_type": "code",
      "execution_count": null,
      "metadata": {
        "id": "KMdw3cBQi9ff"
      },
      "outputs": [],
      "source": [
        "# thumbs up\n",
        "thumbs_up = data \\\n",
        "    .select('userID', 'page') \\\n",
        "    .where(data.page == 'Thumbs Up') \\\n",
        "    .groupBy('userID') \\\n",
        "    .count() \\\n",
        "    .withColumnRenamed('count', 'num_thumb_up')"
      ]
    },
    {
      "cell_type": "code",
      "execution_count": null,
      "metadata": {
        "scrolled": true,
        "colab": {
          "base_uri": "https://localhost:8080/"
        },
        "id": "VDR3QYLUi9fg",
        "outputId": "2578be83-3cdd-4740-b881-e6c0d557c7f2"
      },
      "outputs": [
        {
          "output_type": "stream",
          "name": "stdout",
          "text": [
            "+-------+-----------------+\n",
            "|summary|     num_thumb_up|\n",
            "+-------+-----------------+\n",
            "|  count|              220|\n",
            "|   mean|58.00909090909091|\n",
            "| stddev|66.41518716323678|\n",
            "|    min|                1|\n",
            "|    max|              437|\n",
            "+-------+-----------------+\n",
            "\n"
          ]
        }
      ],
      "source": [
        "thumbs_up.describe('num_thumb_up').show()"
      ]
    },
    {
      "cell_type": "markdown",
      "metadata": {
        "id": "spcH3LXKi9fg"
      },
      "source": [
        "Similarly, the more songs a user dislikes, the less likely they are to enjoy their subscription and cancel it."
      ]
    },
    {
      "cell_type": "code",
      "execution_count": null,
      "metadata": {
        "id": "X1iQpEbGi9fg"
      },
      "outputs": [],
      "source": [
        "# thumbs down\n",
        "thumbs_down = data \\\n",
        "    .select('userID', 'page') \\\n",
        "    .where(data.page == 'Thumbs Down') \\\n",
        "    .groupBy('userID') \\\n",
        "    .count() \\\n",
        "    .withColumnRenamed('count', 'num_thumb_down')"
      ]
    },
    {
      "cell_type": "code",
      "execution_count": null,
      "metadata": {
        "colab": {
          "base_uri": "https://localhost:8080/"
        },
        "id": "qScaoU6si9fg",
        "outputId": "ce8eec55-9b60-4222-dc72-e7f00c241446"
      },
      "outputs": [
        {
          "output_type": "stream",
          "name": "stdout",
          "text": [
            "+-------+------------------+\n",
            "|summary|    num_thumb_down|\n",
            "+-------+------------------+\n",
            "|  count|               203|\n",
            "|   mean|12.694581280788178|\n",
            "| stddev| 13.35039288912889|\n",
            "|    min|                 1|\n",
            "|    max|                76|\n",
            "+-------+------------------+\n",
            "\n"
          ]
        }
      ],
      "source": [
        "thumbs_down.describe('num_thumb_down').show()"
      ]
    },
    {
      "cell_type": "markdown",
      "metadata": {
        "id": "_K3GwdL2i9fg"
      },
      "source": [
        "Playlist length counts the number of times a user visited the add to playlist page indicating that they added a song to their playlist. A long playlist implies a user is enjoying several songs and wants frequent access to them. This would likely lead to them keeping their subscription. Thus, we create a feature to compute the lenght of the playlist."
      ]
    },
    {
      "cell_type": "code",
      "execution_count": null,
      "metadata": {
        "id": "q2mlpT-Ai9fg"
      },
      "outputs": [],
      "source": [
        "playlist_length = data.select('userID', 'page') \\\n",
        "    .where(data.page == 'Add to Playlist') \\\n",
        "    .groupby('userID').count() \\\n",
        "    .withColumnRenamed('count', 'playlist_length')"
      ]
    },
    {
      "cell_type": "code",
      "execution_count": null,
      "metadata": {
        "colab": {
          "base_uri": "https://localhost:8080/"
        },
        "id": "PMQu2zS5i9fg",
        "outputId": "eb9cea04-bd55-4a83-b5bf-a7928dc3a712"
      },
      "outputs": [
        {
          "output_type": "stream",
          "name": "stdout",
          "text": [
            "+-------+------------------+\n",
            "|summary|   playlist_length|\n",
            "+-------+------------------+\n",
            "|  count|               215|\n",
            "|   mean|30.767441860465116|\n",
            "| stddev| 33.25210780284287|\n",
            "|    min|                 1|\n",
            "|    max|               242|\n",
            "+-------+------------------+\n",
            "\n"
          ]
        }
      ],
      "source": [
        "playlist_length.describe('playlist_length').show()"
      ]
    },
    {
      "cell_type": "markdown",
      "metadata": {
        "id": "JCvoMJrQi9fg"
      },
      "source": [
        "Avg songs per session allows us to measure how long each user session lasts when they open the application and start a session. The longer the session, the more songs the user is listening too. This could imply that the user is enjoying the application and is less likely to cancel."
      ]
    },
    {
      "cell_type": "code",
      "execution_count": null,
      "metadata": {
        "id": "zl3g1VQti9fh"
      },
      "outputs": [],
      "source": [
        "avg_songs_played = data.where('page == \"NextSong\"') \\\n",
        "    .groupby(['userId', 'sessionId']) \\\n",
        "    .count() \\\n",
        "    .groupby(['userId']) \\\n",
        "    .agg({'count': 'avg'}) \\\n",
        "    .withColumnRenamed('avg(count)', 'avg_songs_played')"
      ]
    },
    {
      "cell_type": "code",
      "execution_count": null,
      "metadata": {
        "colab": {
          "base_uri": "https://localhost:8080/"
        },
        "id": "rdUZbx8xi9fh",
        "outputId": "8870d383-280b-41ea-b2cb-36998b1244e3"
      },
      "outputs": [
        {
          "output_type": "stream",
          "name": "stdout",
          "text": [
            "+-------+------------------+\n",
            "|summary|  avg_songs_played|\n",
            "+-------+------------------+\n",
            "|  count|               225|\n",
            "|   mean| 71.91858261060032|\n",
            "| stddev| 44.09146264771613|\n",
            "|    min|               6.0|\n",
            "|    max|304.22222222222223|\n",
            "+-------+------------------+\n",
            "\n"
          ]
        }
      ],
      "source": [
        "avg_songs_played.describe('avg_songs_played').show()"
      ]
    },
    {
      "cell_type": "markdown",
      "metadata": {
        "id": "oIdEQAGCi9fl"
      },
      "source": [
        "Artist count measures the amount of different artists the user listens to. A user listening to a wide variety of artists could potentially be enjoying the music application more and is likely to keep their subscription. On the other hand, a user listening to only a handful of artists may not be happy with the current subscription and would be likely to churn."
      ]
    },
    {
      "cell_type": "code",
      "execution_count": null,
      "metadata": {
        "id": "G-ohwyWli9fl"
      },
      "outputs": [],
      "source": [
        "artist_count = data \\\n",
        "    .filter(data.page == \"NextSong\") \\\n",
        "    .select(\"userId\", \"artist\") \\\n",
        "    .dropDuplicates() \\\n",
        "    .groupby(\"userId\") \\\n",
        "    .count() \\\n",
        "    .withColumnRenamed(\"count\", \"artist_count\")"
      ]
    },
    {
      "cell_type": "code",
      "execution_count": null,
      "metadata": {
        "colab": {
          "base_uri": "https://localhost:8080/"
        },
        "id": "4SIBNRDIi9fl",
        "outputId": "47f9f296-afea-4200-ebea-0c1e05aab8e5"
      },
      "outputs": [
        {
          "output_type": "stream",
          "name": "stdout",
          "text": [
            "+-------+-----------------+\n",
            "|summary|     artist_count|\n",
            "+-------+-----------------+\n",
            "|  count|              225|\n",
            "|   mean|696.3777777777777|\n",
            "| stddev|603.9518698630803|\n",
            "|    min|                3|\n",
            "|    max|             3544|\n",
            "+-------+-----------------+\n",
            "\n"
          ]
        }
      ],
      "source": [
        "artist_count.describe('artist_count').show()"
      ]
    },
    {
      "cell_type": "markdown",
      "metadata": {
        "id": "whjHExQbi9fl"
      },
      "source": [
        "Total number of sessions computes how many times the user has started a session on the app. The more sessions implies more visits to the application meaning they are less likely to churn."
      ]
    },
    {
      "cell_type": "code",
      "execution_count": null,
      "metadata": {
        "id": "BDb5RKBJi9fl"
      },
      "outputs": [],
      "source": [
        "num_sessions = data \\\n",
        "    .select(\"userId\", \"sessionId\") \\\n",
        "    .dropDuplicates() \\\n",
        "    .groupby(\"userId\") \\\n",
        "    .count() \\\n",
        "    .withColumnRenamed('count', 'num_sessions')"
      ]
    },
    {
      "cell_type": "code",
      "execution_count": null,
      "metadata": {
        "colab": {
          "base_uri": "https://localhost:8080/"
        },
        "id": "9wMv-WPWi9fm",
        "outputId": "ff30ca0b-140b-4f95-e690-baa4c0ecd43d"
      },
      "outputs": [
        {
          "output_type": "stream",
          "name": "stdout",
          "text": [
            "+-------+------------------+\n",
            "|summary|      num_sessions|\n",
            "+-------+------------------+\n",
            "|  count|               225|\n",
            "|   mean|14.115555555555556|\n",
            "| stddev|14.646884657111567|\n",
            "|    min|                 1|\n",
            "|    max|               107|\n",
            "+-------+------------------+\n",
            "\n"
          ]
        }
      ],
      "source": [
        "num_sessions.describe('num_sessions').show()"
      ]
    },
    {
      "cell_type": "markdown",
      "metadata": {
        "id": "D6YHo0oei9fm"
      },
      "source": [
        "#### Feature table"
      ]
    },
    {
      "cell_type": "markdown",
      "metadata": {
        "id": "aH4rzLIqi9fm"
      },
      "source": [
        "Now that we have our features, we will join them to create a table of features."
      ]
    },
    {
      "cell_type": "code",
      "execution_count": null,
      "metadata": {
        "id": "XTPKdemzi9fm"
      },
      "outputs": [],
      "source": [
        "cols = [\"lifetime\",\n",
        "        \"total_songs\",\n",
        "        \"num_thumb_up\",\n",
        "        'num_thumb_down',\n",
        "        'add_friend',\n",
        "        'playlist_length',\n",
        "        'avg_songs_played',\n",
        "        'artist_count',\n",
        "        'num_sessions']\n",
        "features = [time_since_registration,\n",
        "            total_songs_listened,\n",
        "            thumbs_up,\n",
        "            thumbs_down,\n",
        "            referring_friends,\n",
        "            playlist_length,\n",
        "            avg_songs_played,\n",
        "            artist_count,\n",
        "            num_sessions]"
      ]
    },
    {
      "cell_type": "code",
      "execution_count": null,
      "metadata": {
        "colab": {
          "base_uri": "https://localhost:8080/"
        },
        "id": "uh3NbJu-i9fm",
        "outputId": "134862d5-23fa-41cd-fd9f-cdec6984771e"
      },
      "outputs": [
        {
          "output_type": "stream",
          "name": "stdout",
          "text": [
            "-RECORD 0--------------------------------\n",
            " userId           | 10                   \n",
            " num_sessions     | 6                    \n",
            " artist_count     | 565                  \n",
            " avg_songs_played | 112.16666666666667   \n",
            " playlist_length  | 9                    \n",
            " add_friend       | 12                   \n",
            " num_thumb_down   | 4                    \n",
            " num_thumb_up     | 37                   \n",
            " total_songs      | 795                  \n",
            " lifetime         | 5.176265046296074... \n",
            " label            | 0                    \n",
            "-RECORD 1--------------------------------\n",
            " userId           | 100                  \n",
            " num_sessions     | 35                   \n",
            " artist_count     | 1705                 \n",
            " avg_songs_played | 78.88235294117646    \n",
            " playlist_length  | 61                   \n",
            " add_friend       | 49                   \n",
            " num_thumb_down   | 27                   \n",
            " num_thumb_up     | 148                  \n",
            " total_songs      | 3214                 \n",
            " lifetime         | 6.487377314814825E-5 \n",
            " label            | 0                    \n",
            "only showing top 2 rows\n",
            "\n"
          ]
        }
      ],
      "source": [
        "data = features.pop()\n",
        "while len(features) > 0:\n",
        "    data = data.join(features.pop(), 'userID', 'outer')\n",
        "\n",
        "data = data.join(label, 'userID', 'outer').fillna(0)\n",
        "data.show(vertical=True, n=2)"
      ]
    },
    {
      "cell_type": "code",
      "execution_count": null,
      "metadata": {
        "colab": {
          "base_uri": "https://localhost:8080/",
          "height": 383
        },
        "id": "jJfU75yri9fm",
        "outputId": "2ecb116e-5f89-439d-c329-300cc122cb09"
      },
      "outputs": [
        {
          "output_type": "execute_result",
          "data": {
            "text/plain": [
              "   userId  num_sessions  artist_count  avg_songs_played  playlist_length  \\\n",
              "0      10             6           565        112.166667                9   \n",
              "1     100            35          1705         78.882353               61   \n",
              "2  100001             4           125         33.250000                3   \n",
              "3  100002             4           184         48.750000                5   \n",
              "4  100003             2            50         25.500000                2   \n",
              "5  100004            21           733         47.100000               23   \n",
              "6  100005             5           149         38.500000                3   \n",
              "7  100006             1            26         26.000000                1   \n",
              "8  100007             9           357         47.000000                9   \n",
              "9  100008             6           623        128.666667               30   \n",
              "\n",
              "   add_friend  num_thumb_down  num_thumb_up  total_songs  lifetime  label  \n",
              "0          12               4            37          795  0.000052      0  \n",
              "1          49              27           148         3214  0.000065      0  \n",
              "2           2               2             8          187  0.000045      1  \n",
              "3           1               0             5          218  0.000160      0  \n",
              "4           0               0             3           78  0.000023      1  \n",
              "5          19              11            35         1245  0.000172      0  \n",
              "6           3               3             7          216  0.000085      1  \n",
              "7           4               2             2           44  0.000009      1  \n",
              "8          17               6            19          520  0.000115      1  \n",
              "9          17               6            37          940  0.000068      0  "
            ],
            "text/html": [
              "\n",
              "  <div id=\"df-bd010ad4-ab5e-4867-811e-b37d8a0dc10f\" class=\"colab-df-container\">\n",
              "    <div>\n",
              "<style scoped>\n",
              "    .dataframe tbody tr th:only-of-type {\n",
              "        vertical-align: middle;\n",
              "    }\n",
              "\n",
              "    .dataframe tbody tr th {\n",
              "        vertical-align: top;\n",
              "    }\n",
              "\n",
              "    .dataframe thead th {\n",
              "        text-align: right;\n",
              "    }\n",
              "</style>\n",
              "<table border=\"1\" class=\"dataframe\">\n",
              "  <thead>\n",
              "    <tr style=\"text-align: right;\">\n",
              "      <th></th>\n",
              "      <th>userId</th>\n",
              "      <th>num_sessions</th>\n",
              "      <th>artist_count</th>\n",
              "      <th>avg_songs_played</th>\n",
              "      <th>playlist_length</th>\n",
              "      <th>add_friend</th>\n",
              "      <th>num_thumb_down</th>\n",
              "      <th>num_thumb_up</th>\n",
              "      <th>total_songs</th>\n",
              "      <th>lifetime</th>\n",
              "      <th>label</th>\n",
              "    </tr>\n",
              "  </thead>\n",
              "  <tbody>\n",
              "    <tr>\n",
              "      <th>0</th>\n",
              "      <td>10</td>\n",
              "      <td>6</td>\n",
              "      <td>565</td>\n",
              "      <td>112.166667</td>\n",
              "      <td>9</td>\n",
              "      <td>12</td>\n",
              "      <td>4</td>\n",
              "      <td>37</td>\n",
              "      <td>795</td>\n",
              "      <td>0.000052</td>\n",
              "      <td>0</td>\n",
              "    </tr>\n",
              "    <tr>\n",
              "      <th>1</th>\n",
              "      <td>100</td>\n",
              "      <td>35</td>\n",
              "      <td>1705</td>\n",
              "      <td>78.882353</td>\n",
              "      <td>61</td>\n",
              "      <td>49</td>\n",
              "      <td>27</td>\n",
              "      <td>148</td>\n",
              "      <td>3214</td>\n",
              "      <td>0.000065</td>\n",
              "      <td>0</td>\n",
              "    </tr>\n",
              "    <tr>\n",
              "      <th>2</th>\n",
              "      <td>100001</td>\n",
              "      <td>4</td>\n",
              "      <td>125</td>\n",
              "      <td>33.250000</td>\n",
              "      <td>3</td>\n",
              "      <td>2</td>\n",
              "      <td>2</td>\n",
              "      <td>8</td>\n",
              "      <td>187</td>\n",
              "      <td>0.000045</td>\n",
              "      <td>1</td>\n",
              "    </tr>\n",
              "    <tr>\n",
              "      <th>3</th>\n",
              "      <td>100002</td>\n",
              "      <td>4</td>\n",
              "      <td>184</td>\n",
              "      <td>48.750000</td>\n",
              "      <td>5</td>\n",
              "      <td>1</td>\n",
              "      <td>0</td>\n",
              "      <td>5</td>\n",
              "      <td>218</td>\n",
              "      <td>0.000160</td>\n",
              "      <td>0</td>\n",
              "    </tr>\n",
              "    <tr>\n",
              "      <th>4</th>\n",
              "      <td>100003</td>\n",
              "      <td>2</td>\n",
              "      <td>50</td>\n",
              "      <td>25.500000</td>\n",
              "      <td>2</td>\n",
              "      <td>0</td>\n",
              "      <td>0</td>\n",
              "      <td>3</td>\n",
              "      <td>78</td>\n",
              "      <td>0.000023</td>\n",
              "      <td>1</td>\n",
              "    </tr>\n",
              "    <tr>\n",
              "      <th>5</th>\n",
              "      <td>100004</td>\n",
              "      <td>21</td>\n",
              "      <td>733</td>\n",
              "      <td>47.100000</td>\n",
              "      <td>23</td>\n",
              "      <td>19</td>\n",
              "      <td>11</td>\n",
              "      <td>35</td>\n",
              "      <td>1245</td>\n",
              "      <td>0.000172</td>\n",
              "      <td>0</td>\n",
              "    </tr>\n",
              "    <tr>\n",
              "      <th>6</th>\n",
              "      <td>100005</td>\n",
              "      <td>5</td>\n",
              "      <td>149</td>\n",
              "      <td>38.500000</td>\n",
              "      <td>3</td>\n",
              "      <td>3</td>\n",
              "      <td>3</td>\n",
              "      <td>7</td>\n",
              "      <td>216</td>\n",
              "      <td>0.000085</td>\n",
              "      <td>1</td>\n",
              "    </tr>\n",
              "    <tr>\n",
              "      <th>7</th>\n",
              "      <td>100006</td>\n",
              "      <td>1</td>\n",
              "      <td>26</td>\n",
              "      <td>26.000000</td>\n",
              "      <td>1</td>\n",
              "      <td>4</td>\n",
              "      <td>2</td>\n",
              "      <td>2</td>\n",
              "      <td>44</td>\n",
              "      <td>0.000009</td>\n",
              "      <td>1</td>\n",
              "    </tr>\n",
              "    <tr>\n",
              "      <th>8</th>\n",
              "      <td>100007</td>\n",
              "      <td>9</td>\n",
              "      <td>357</td>\n",
              "      <td>47.000000</td>\n",
              "      <td>9</td>\n",
              "      <td>17</td>\n",
              "      <td>6</td>\n",
              "      <td>19</td>\n",
              "      <td>520</td>\n",
              "      <td>0.000115</td>\n",
              "      <td>1</td>\n",
              "    </tr>\n",
              "    <tr>\n",
              "      <th>9</th>\n",
              "      <td>100008</td>\n",
              "      <td>6</td>\n",
              "      <td>623</td>\n",
              "      <td>128.666667</td>\n",
              "      <td>30</td>\n",
              "      <td>17</td>\n",
              "      <td>6</td>\n",
              "      <td>37</td>\n",
              "      <td>940</td>\n",
              "      <td>0.000068</td>\n",
              "      <td>0</td>\n",
              "    </tr>\n",
              "  </tbody>\n",
              "</table>\n",
              "</div>\n",
              "    <div class=\"colab-df-buttons\">\n",
              "\n",
              "  <div class=\"colab-df-container\">\n",
              "    <button class=\"colab-df-convert\" onclick=\"convertToInteractive('df-bd010ad4-ab5e-4867-811e-b37d8a0dc10f')\"\n",
              "            title=\"Convert this dataframe to an interactive table.\"\n",
              "            style=\"display:none;\">\n",
              "\n",
              "  <svg xmlns=\"http://www.w3.org/2000/svg\" height=\"24px\" viewBox=\"0 -960 960 960\">\n",
              "    <path d=\"M120-120v-720h720v720H120Zm60-500h600v-160H180v160Zm220 220h160v-160H400v160Zm0 220h160v-160H400v160ZM180-400h160v-160H180v160Zm440 0h160v-160H620v160ZM180-180h160v-160H180v160Zm440 0h160v-160H620v160Z\"/>\n",
              "  </svg>\n",
              "    </button>\n",
              "\n",
              "  <style>\n",
              "    .colab-df-container {\n",
              "      display:flex;\n",
              "      gap: 12px;\n",
              "    }\n",
              "\n",
              "    .colab-df-convert {\n",
              "      background-color: #E8F0FE;\n",
              "      border: none;\n",
              "      border-radius: 50%;\n",
              "      cursor: pointer;\n",
              "      display: none;\n",
              "      fill: #1967D2;\n",
              "      height: 32px;\n",
              "      padding: 0 0 0 0;\n",
              "      width: 32px;\n",
              "    }\n",
              "\n",
              "    .colab-df-convert:hover {\n",
              "      background-color: #E2EBFA;\n",
              "      box-shadow: 0px 1px 2px rgba(60, 64, 67, 0.3), 0px 1px 3px 1px rgba(60, 64, 67, 0.15);\n",
              "      fill: #174EA6;\n",
              "    }\n",
              "\n",
              "    .colab-df-buttons div {\n",
              "      margin-bottom: 4px;\n",
              "    }\n",
              "\n",
              "    [theme=dark] .colab-df-convert {\n",
              "      background-color: #3B4455;\n",
              "      fill: #D2E3FC;\n",
              "    }\n",
              "\n",
              "    [theme=dark] .colab-df-convert:hover {\n",
              "      background-color: #434B5C;\n",
              "      box-shadow: 0px 1px 3px 1px rgba(0, 0, 0, 0.15);\n",
              "      filter: drop-shadow(0px 1px 2px rgba(0, 0, 0, 0.3));\n",
              "      fill: #FFFFFF;\n",
              "    }\n",
              "  </style>\n",
              "\n",
              "    <script>\n",
              "      const buttonEl =\n",
              "        document.querySelector('#df-bd010ad4-ab5e-4867-811e-b37d8a0dc10f button.colab-df-convert');\n",
              "      buttonEl.style.display =\n",
              "        google.colab.kernel.accessAllowed ? 'block' : 'none';\n",
              "\n",
              "      async function convertToInteractive(key) {\n",
              "        const element = document.querySelector('#df-bd010ad4-ab5e-4867-811e-b37d8a0dc10f');\n",
              "        const dataTable =\n",
              "          await google.colab.kernel.invokeFunction('convertToInteractive',\n",
              "                                                    [key], {});\n",
              "        if (!dataTable) return;\n",
              "\n",
              "        const docLinkHtml = 'Like what you see? Visit the ' +\n",
              "          '<a target=\"_blank\" href=https://colab.research.google.com/notebooks/data_table.ipynb>data table notebook</a>'\n",
              "          + ' to learn more about interactive tables.';\n",
              "        element.innerHTML = '';\n",
              "        dataTable['output_type'] = 'display_data';\n",
              "        await google.colab.output.renderOutput(dataTable, element);\n",
              "        const docLink = document.createElement('div');\n",
              "        docLink.innerHTML = docLinkHtml;\n",
              "        element.appendChild(docLink);\n",
              "      }\n",
              "    </script>\n",
              "  </div>\n",
              "\n",
              "\n",
              "<div id=\"df-81569d48-a569-41e5-b9b1-84e98dc1a094\">\n",
              "  <button class=\"colab-df-quickchart\" onclick=\"quickchart('df-81569d48-a569-41e5-b9b1-84e98dc1a094')\"\n",
              "            title=\"Suggest charts\"\n",
              "            style=\"display:none;\">\n",
              "\n",
              "<svg xmlns=\"http://www.w3.org/2000/svg\" height=\"24px\"viewBox=\"0 0 24 24\"\n",
              "     width=\"24px\">\n",
              "    <g>\n",
              "        <path d=\"M19 3H5c-1.1 0-2 .9-2 2v14c0 1.1.9 2 2 2h14c1.1 0 2-.9 2-2V5c0-1.1-.9-2-2-2zM9 17H7v-7h2v7zm4 0h-2V7h2v10zm4 0h-2v-4h2v4z\"/>\n",
              "    </g>\n",
              "</svg>\n",
              "  </button>\n",
              "\n",
              "<style>\n",
              "  .colab-df-quickchart {\n",
              "      --bg-color: #E8F0FE;\n",
              "      --fill-color: #1967D2;\n",
              "      --hover-bg-color: #E2EBFA;\n",
              "      --hover-fill-color: #174EA6;\n",
              "      --disabled-fill-color: #AAA;\n",
              "      --disabled-bg-color: #DDD;\n",
              "  }\n",
              "\n",
              "  [theme=dark] .colab-df-quickchart {\n",
              "      --bg-color: #3B4455;\n",
              "      --fill-color: #D2E3FC;\n",
              "      --hover-bg-color: #434B5C;\n",
              "      --hover-fill-color: #FFFFFF;\n",
              "      --disabled-bg-color: #3B4455;\n",
              "      --disabled-fill-color: #666;\n",
              "  }\n",
              "\n",
              "  .colab-df-quickchart {\n",
              "    background-color: var(--bg-color);\n",
              "    border: none;\n",
              "    border-radius: 50%;\n",
              "    cursor: pointer;\n",
              "    display: none;\n",
              "    fill: var(--fill-color);\n",
              "    height: 32px;\n",
              "    padding: 0;\n",
              "    width: 32px;\n",
              "  }\n",
              "\n",
              "  .colab-df-quickchart:hover {\n",
              "    background-color: var(--hover-bg-color);\n",
              "    box-shadow: 0 1px 2px rgba(60, 64, 67, 0.3), 0 1px 3px 1px rgba(60, 64, 67, 0.15);\n",
              "    fill: var(--button-hover-fill-color);\n",
              "  }\n",
              "\n",
              "  .colab-df-quickchart-complete:disabled,\n",
              "  .colab-df-quickchart-complete:disabled:hover {\n",
              "    background-color: var(--disabled-bg-color);\n",
              "    fill: var(--disabled-fill-color);\n",
              "    box-shadow: none;\n",
              "  }\n",
              "\n",
              "  .colab-df-spinner {\n",
              "    border: 2px solid var(--fill-color);\n",
              "    border-color: transparent;\n",
              "    border-bottom-color: var(--fill-color);\n",
              "    animation:\n",
              "      spin 1s steps(1) infinite;\n",
              "  }\n",
              "\n",
              "  @keyframes spin {\n",
              "    0% {\n",
              "      border-color: transparent;\n",
              "      border-bottom-color: var(--fill-color);\n",
              "      border-left-color: var(--fill-color);\n",
              "    }\n",
              "    20% {\n",
              "      border-color: transparent;\n",
              "      border-left-color: var(--fill-color);\n",
              "      border-top-color: var(--fill-color);\n",
              "    }\n",
              "    30% {\n",
              "      border-color: transparent;\n",
              "      border-left-color: var(--fill-color);\n",
              "      border-top-color: var(--fill-color);\n",
              "      border-right-color: var(--fill-color);\n",
              "    }\n",
              "    40% {\n",
              "      border-color: transparent;\n",
              "      border-right-color: var(--fill-color);\n",
              "      border-top-color: var(--fill-color);\n",
              "    }\n",
              "    60% {\n",
              "      border-color: transparent;\n",
              "      border-right-color: var(--fill-color);\n",
              "    }\n",
              "    80% {\n",
              "      border-color: transparent;\n",
              "      border-right-color: var(--fill-color);\n",
              "      border-bottom-color: var(--fill-color);\n",
              "    }\n",
              "    90% {\n",
              "      border-color: transparent;\n",
              "      border-bottom-color: var(--fill-color);\n",
              "    }\n",
              "  }\n",
              "</style>\n",
              "\n",
              "  <script>\n",
              "    async function quickchart(key) {\n",
              "      const quickchartButtonEl =\n",
              "        document.querySelector('#' + key + ' button');\n",
              "      quickchartButtonEl.disabled = true;  // To prevent multiple clicks.\n",
              "      quickchartButtonEl.classList.add('colab-df-spinner');\n",
              "      try {\n",
              "        const charts = await google.colab.kernel.invokeFunction(\n",
              "            'suggestCharts', [key], {});\n",
              "      } catch (error) {\n",
              "        console.error('Error during call to suggestCharts:', error);\n",
              "      }\n",
              "      quickchartButtonEl.classList.remove('colab-df-spinner');\n",
              "      quickchartButtonEl.classList.add('colab-df-quickchart-complete');\n",
              "    }\n",
              "    (() => {\n",
              "      let quickchartButtonEl =\n",
              "        document.querySelector('#df-81569d48-a569-41e5-b9b1-84e98dc1a094 button');\n",
              "      quickchartButtonEl.style.display =\n",
              "        google.colab.kernel.accessAllowed ? 'block' : 'none';\n",
              "    })();\n",
              "  </script>\n",
              "</div>\n",
              "    </div>\n",
              "  </div>\n"
            ],
            "application/vnd.google.colaboratory.intrinsic+json": {
              "type": "dataframe",
              "summary": "{\n  \"name\": \"data\",\n  \"rows\": 10,\n  \"fields\": [\n    {\n      \"column\": \"userId\",\n      \"properties\": {\n        \"dtype\": \"string\",\n        \"num_unique_values\": 10,\n        \"samples\": [\n          \"100007\",\n          \"100\",\n          \"100004\"\n        ],\n        \"semantic_type\": \"\",\n        \"description\": \"\"\n      }\n    },\n    {\n      \"column\": \"num_sessions\",\n      \"properties\": {\n        \"dtype\": \"number\",\n        \"std\": 10,\n        \"min\": 1,\n        \"max\": 35,\n        \"num_unique_values\": 8,\n        \"samples\": [\n          35,\n          5,\n          6\n        ],\n        \"semantic_type\": \"\",\n        \"description\": \"\"\n      }\n    },\n    {\n      \"column\": \"artist_count\",\n      \"properties\": {\n        \"dtype\": \"number\",\n        \"std\": 507,\n        \"min\": 26,\n        \"max\": 1705,\n        \"num_unique_values\": 10,\n        \"samples\": [\n          357,\n          1705,\n          733\n        ],\n        \"semantic_type\": \"\",\n        \"description\": \"\"\n      }\n    },\n    {\n      \"column\": \"avg_songs_played\",\n      \"properties\": {\n        \"dtype\": \"number\",\n        \"std\": 36.14620158195673,\n        \"min\": 25.5,\n        \"max\": 128.66666666666666,\n        \"num_unique_values\": 10,\n        \"samples\": [\n          47.0,\n          78.88235294117646,\n          47.1\n        ],\n        \"semantic_type\": \"\",\n        \"description\": \"\"\n      }\n    },\n    {\n      \"column\": \"playlist_length\",\n      \"properties\": {\n        \"dtype\": \"number\",\n        \"std\": 18,\n        \"min\": 1,\n        \"max\": 61,\n        \"num_unique_values\": 8,\n        \"samples\": [\n          61,\n          23,\n          9\n        ],\n        \"semantic_type\": \"\",\n        \"description\": \"\"\n      }\n    },\n    {\n      \"column\": \"add_friend\",\n      \"properties\": {\n        \"dtype\": \"number\",\n        \"std\": 14,\n        \"min\": 0,\n        \"max\": 49,\n        \"num_unique_values\": 9,\n        \"samples\": [\n          4,\n          49,\n          19\n        ],\n        \"semantic_type\": \"\",\n        \"description\": \"\"\n      }\n    },\n    {\n      \"column\": \"num_thumb_down\",\n      \"properties\": {\n        \"dtype\": \"number\",\n        \"std\": 8,\n        \"min\": 0,\n        \"max\": 27,\n        \"num_unique_values\": 7,\n        \"samples\": [\n          4,\n          27,\n          3\n        ],\n        \"semantic_type\": \"\",\n        \"description\": \"\"\n      }\n    },\n    {\n      \"column\": \"num_thumb_up\",\n      \"properties\": {\n        \"dtype\": \"number\",\n        \"std\": 43,\n        \"min\": 2,\n        \"max\": 148,\n        \"num_unique_values\": 9,\n        \"samples\": [\n          2,\n          148,\n          35\n        ],\n        \"semantic_type\": \"\",\n        \"description\": \"\"\n      }\n    },\n    {\n      \"column\": \"total_songs\",\n      \"properties\": {\n        \"dtype\": \"number\",\n        \"std\": 956,\n        \"min\": 44,\n        \"max\": 3214,\n        \"num_unique_values\": 10,\n        \"samples\": [\n          520,\n          3214,\n          1245\n        ],\n        \"semantic_type\": \"\",\n        \"description\": \"\"\n      }\n    },\n    {\n      \"column\": \"lifetime\",\n      \"properties\": {\n        \"dtype\": \"number\",\n        \"std\": 5.477450272216568e-05,\n        \"min\": 9.127164351851931e-06,\n        \"max\": 0.00017244008101851844,\n        \"num_unique_values\": 10,\n        \"samples\": [\n          0.0001153876157407428,\n          6.487377314814825e-05,\n          0.00017244008101851844\n        ],\n        \"semantic_type\": \"\",\n        \"description\": \"\"\n      }\n    },\n    {\n      \"column\": \"label\",\n      \"properties\": {\n        \"dtype\": \"number\",\n        \"std\": 0,\n        \"min\": 0,\n        \"max\": 1,\n        \"num_unique_values\": 2,\n        \"samples\": [\n          1,\n          0\n        ],\n        \"semantic_type\": \"\",\n        \"description\": \"\"\n      }\n    }\n  ]\n}"
            }
          },
          "metadata": {},
          "execution_count": 168
        }
      ],
      "source": [
        "data.limit(10).toPandas()"
      ]
    },
    {
      "cell_type": "code",
      "execution_count": null,
      "metadata": {
        "colab": {
          "base_uri": "https://localhost:8080/"
        },
        "id": "5a3qsTnGi9fm",
        "outputId": "0adc29fb-bc86-43f6-ba48-4a8c3cb6a9e4"
      },
      "outputs": [
        {
          "output_type": "stream",
          "name": "stdout",
          "text": [
            "root\n",
            " |-- userId: string (nullable = true)\n",
            " |-- num_sessions: long (nullable = true)\n",
            " |-- artist_count: long (nullable = true)\n",
            " |-- avg_songs_played: double (nullable = false)\n",
            " |-- playlist_length: long (nullable = true)\n",
            " |-- add_friend: long (nullable = true)\n",
            " |-- num_thumb_down: long (nullable = true)\n",
            " |-- num_thumb_up: long (nullable = true)\n",
            " |-- total_songs: long (nullable = true)\n",
            " |-- lifetime: double (nullable = false)\n",
            " |-- label: long (nullable = true)\n",
            "\n"
          ]
        }
      ],
      "source": [
        "data.printSchema()"
      ]
    },
    {
      "cell_type": "code",
      "execution_count": null,
      "metadata": {
        "colab": {
          "base_uri": "https://localhost:8080/"
        },
        "id": "V8kKULbGi9fn",
        "outputId": "70efad0b-6223-4868-81dc-721e0f0af436"
      },
      "outputs": [
        {
          "output_type": "stream",
          "name": "stdout",
          "text": [
            "+-----+-----+\n",
            "|label|count|\n",
            "+-----+-----+\n",
            "|    0|  173|\n",
            "|    1|   52|\n",
            "+-----+-----+\n",
            "\n"
          ]
        }
      ],
      "source": [
        "data.groupby('label').count().show()"
      ]
    },
    {
      "cell_type": "markdown",
      "metadata": {
        "id": "RblKauL5i9fn"
      },
      "source": [
        "### Vector Assembler and Scaling"
      ]
    },
    {
      "cell_type": "markdown",
      "metadata": {
        "id": "Bmmnyrhti9fn"
      },
      "source": [
        "There are few more steps before we can feed the data into a model. First we will use a vector assempler to create a feature column."
      ]
    },
    {
      "cell_type": "code",
      "execution_count": null,
      "metadata": {
        "id": "enrx5ws7i9fn"
      },
      "outputs": [],
      "source": [
        "# Vector assembler\n",
        "from pyspark.ml.feature import StandardScaler, VectorAssembler\n",
        "assembler = VectorAssembler(inputCols=cols, outputCol=\"unScaled_features\")\n",
        "data = assembler.transform(data)"
      ]
    },
    {
      "cell_type": "markdown",
      "metadata": {
        "id": "EW30rjixi9fn"
      },
      "source": [
        "We don't need all of the feature columns before, we will select a few that we need"
      ]
    },
    {
      "cell_type": "code",
      "execution_count": null,
      "metadata": {
        "colab": {
          "base_uri": "https://localhost:8080/"
        },
        "id": "jbhdZ8W6i9fn",
        "outputId": "e9d7df7b-04d1-46b8-d848-0192e091f121"
      },
      "outputs": [
        {
          "output_type": "stream",
          "name": "stdout",
          "text": [
            "-RECORD 0---------------------------------\n",
            " userID            | 10                   \n",
            " unScaled_features | [5.17626504629607... \n",
            " label             | 0                    \n",
            "-RECORD 1---------------------------------\n",
            " userID            | 100                  \n",
            " unScaled_features | [6.48737731481482... \n",
            " label             | 0                    \n",
            "only showing top 2 rows\n",
            "\n"
          ]
        }
      ],
      "source": [
        "data = data.select('userID', 'unScaled_features', 'label')\n",
        "data.show(vertical=True, n=2)"
      ]
    },
    {
      "cell_type": "markdown",
      "metadata": {
        "id": "nv22sb83i9fn"
      },
      "source": [
        "If you have been paying attention to the min and max values output after our features above, they are everywhere. We need to use a scaler to scale them."
      ]
    },
    {
      "cell_type": "code",
      "execution_count": null,
      "metadata": {
        "colab": {
          "base_uri": "https://localhost:8080/"
        },
        "id": "9FFQAZoYi9fn",
        "outputId": "90f0342e-664e-4227-873e-4ead99e94df1"
      },
      "outputs": [
        {
          "output_type": "stream",
          "name": "stdout",
          "text": [
            "-RECORD 0---------------------------------\n",
            " userID            | 10                   \n",
            " unScaled_features | [5.17626504629607... \n",
            " label             | 0                    \n",
            " features          | [1.37441927883800... \n",
            "-RECORD 1---------------------------------\n",
            " userID            | 100                  \n",
            " unScaled_features | [6.48737731481482... \n",
            " label             | 0                    \n",
            " features          | [1.72255021155804... \n",
            "only showing top 2 rows\n",
            "\n"
          ]
        }
      ],
      "source": [
        "# scale the features\n",
        "scaler = StandardScaler(inputCol=\"unScaled_features\", outputCol=\"features\", withStd=True)\n",
        "scalerModel = scaler.fit(data)\n",
        "data = scalerModel.transform(data)\n",
        "data.show(vertical=True, n=2)"
      ]
    },
    {
      "cell_type": "markdown",
      "metadata": {
        "id": "RPGIniYui9fo"
      },
      "source": [
        "### The split\n",
        "\n",
        "Now that we have our data ready to be transformed and fitted by the models, we split them into training and test set. We will do a 80-20 split"
      ]
    },
    {
      "cell_type": "code",
      "execution_count": null,
      "metadata": {
        "id": "-y1yLYIui9fo"
      },
      "outputs": [],
      "source": [
        "# train test split\n",
        "trainTest = data.randomSplit([0.8, 0.2])\n",
        "trainingDF = trainTest[0]\n",
        "testDF = trainTest[1]"
      ]
    },
    {
      "cell_type": "markdown",
      "metadata": {
        "id": "0rkeZ1Qti9fo"
      },
      "source": [
        "## Modelling\n",
        "Four different models were picked:\n",
        "  * Gradient Boosting Trees,\n",
        "  * Logistic Regression,\n",
        "  * Linear SVC,\n",
        "  * RandomForestClassifier\n",
        "  \n",
        "We used Accuracy and f1-score as for evaluating our models. We are really looking for the highest f1 score. Results are shown below."
      ]
    },
    {
      "cell_type": "code",
      "execution_count": null,
      "metadata": {
        "id": "pO2iHPAyi9fo"
      },
      "outputs": [],
      "source": [
        "from pyspark.ml.classification import GBTClassifier, LogisticRegression, LinearSVC, RandomForestClassifier\n",
        "from pyspark.ml.evaluation import MulticlassClassificationEvaluator\n",
        "from pyspark.ml.tuning import CrossValidator, ParamGridBuilder"
      ]
    },
    {
      "cell_type": "code",
      "execution_count": null,
      "metadata": {
        "colab": {
          "base_uri": "https://localhost:8080/"
        },
        "id": "-qL8MsNji9fo",
        "outputId": "8b2cfc90-4a44-4d04-f746-2b97dc50ea4b"
      },
      "outputs": [
        {
          "output_type": "stream",
          "name": "stdout",
          "text": [
            "+------+-----+----------+\n",
            "|userID|label|prediction|\n",
            "+------+-----+----------+\n",
            "|100004|    0|       0.0|\n",
            "|100019|    1|       1.0|\n",
            "|   104|    0|       0.0|\n",
            "|    11|    0|       0.0|\n",
            "|   113|    0|       0.0|\n",
            "|   114|    0|       0.0|\n",
            "|   123|    0|       0.0|\n",
            "|   124|    0|       0.0|\n",
            "|   128|    0|       0.0|\n",
            "|   131|    0|       0.0|\n",
            "+------+-----+----------+\n",
            "only showing top 10 rows\n",
            "\n",
            "Gradient Boosted Trees Metrics:\n",
            "Accuracy: 0.86\n",
            "F1 Score: 0.85\n"
          ]
        }
      ],
      "source": [
        "# initialize classifier\n",
        "GradBoostTree = GBTClassifier()\n",
        "\n",
        "# Fit the model\n",
        "cvModel_GradBoostTree = GradBoostTree.fit(trainingDF)\n",
        "\n",
        "# Make Predictions\n",
        "results_GradBoostTree = cvModel_GradBoostTree.transform(testDF)\n",
        "results_GradBoostTree = results_GradBoostTree.select('userID', 'label', 'prediction')\n",
        "results_GradBoostTree.show(10)\n",
        "\n",
        "# Get Results\n",
        "evaluator = MulticlassClassificationEvaluator(predictionCol=\"prediction\")\n",
        "accuracy = evaluator.evaluate(results_GradBoostTree, {evaluator.metricName: \"accuracy\"})\n",
        "f1Score = evaluator.evaluate(results_GradBoostTree, {evaluator.metricName: \"f1\"})\n",
        "print('Gradient Boosted Trees Metrics:')\n",
        "print('Accuracy: {:.2f}'.format(accuracy))\n",
        "print('F1 Score: {:.2f}'.format(f1Score))"
      ]
    },
    {
      "cell_type": "markdown",
      "metadata": {
        "id": "cJBDXJz5i9fo"
      },
      "source": [
        "Logistic Regression Classifier"
      ]
    },
    {
      "cell_type": "code",
      "execution_count": null,
      "metadata": {
        "colab": {
          "base_uri": "https://localhost:8080/"
        },
        "id": "IIAPHRami9fo",
        "outputId": "4bd99cd5-1356-4bc4-b646-46ba84c0b68b"
      },
      "outputs": [
        {
          "output_type": "stream",
          "name": "stdout",
          "text": [
            "+------+-----+----------+\n",
            "|userID|label|prediction|\n",
            "+------+-----+----------+\n",
            "|100004|    0|       0.0|\n",
            "|100019|    1|       1.0|\n",
            "|   104|    0|       0.0|\n",
            "|    11|    0|       0.0|\n",
            "|   113|    0|       0.0|\n",
            "|   114|    0|       0.0|\n",
            "|   123|    0|       0.0|\n",
            "|   124|    0|       0.0|\n",
            "|   128|    0|       0.0|\n",
            "|   131|    0|       0.0|\n",
            "+------+-----+----------+\n",
            "only showing top 10 rows\n",
            "\n",
            "Logistic Regression Metrics:\n",
            "Accuracy: 0.92\n",
            "F1 Score: 0.91\n"
          ]
        }
      ],
      "source": [
        "# initialize classifier\n",
        "lgr = LogisticRegression()\n",
        "\n",
        "# Fit the model\n",
        "cvModel_lgr = lgr.fit(trainingDF)\n",
        "\n",
        "# Make Predictions\n",
        "results_lgr = cvModel_lgr.transform(testDF).select('userID', 'label', 'prediction')\n",
        "results_lgr.show(10)\n",
        "\n",
        "# Get Results\n",
        "evaluator = MulticlassClassificationEvaluator(predictionCol=\"prediction\")\n",
        "accuracy = evaluator.evaluate(results_lgr, {evaluator.metricName: \"accuracy\"})\n",
        "f1Score = evaluator.evaluate(results_lgr, {evaluator.metricName: \"f1\"})\n",
        "print('Logistic Regression Metrics:')\n",
        "print('Accuracy: {:.2f}'.format(accuracy))\n",
        "print('F1 Score: {:.2f}'.format(f1Score))"
      ]
    },
    {
      "cell_type": "markdown",
      "metadata": {
        "id": "SNdQLYFJi9fo"
      },
      "source": [
        "Support Vector Machine"
      ]
    },
    {
      "cell_type": "code",
      "execution_count": null,
      "metadata": {
        "colab": {
          "base_uri": "https://localhost:8080/"
        },
        "id": "009zZgV5i9fp",
        "outputId": "329c2d40-42d7-4976-9792-091fee762925"
      },
      "outputs": [
        {
          "output_type": "stream",
          "name": "stdout",
          "text": [
            "+------+-----+----------+\n",
            "|userID|label|prediction|\n",
            "+------+-----+----------+\n",
            "|100004|    0|       0.0|\n",
            "|100019|    1|       0.0|\n",
            "|   104|    0|       0.0|\n",
            "|    11|    0|       0.0|\n",
            "|   113|    0|       0.0|\n",
            "|   114|    0|       0.0|\n",
            "|   123|    0|       0.0|\n",
            "|   124|    0|       0.0|\n",
            "|   128|    0|       0.0|\n",
            "|   131|    0|       0.0|\n",
            "+------+-----+----------+\n",
            "only showing top 10 rows\n",
            "\n",
            "Support Vector Machine Metrics:\n",
            "Accuracy: 0.84\n",
            "F1 Score: 0.76\n"
          ]
        }
      ],
      "source": [
        "# initialize classifier\n",
        "svc = LinearSVC()\n",
        "\n",
        "# Fit the model\n",
        "cvModel_svc = svc.fit(trainingDF)\n",
        "\n",
        "# Make Predictions\n",
        "results_svc = cvModel_svc.transform(testDF).select('userID', 'label', 'prediction')\n",
        "results_svc.show(10)\n",
        "\n",
        "# Get Results\n",
        "evaluator = MulticlassClassificationEvaluator(predictionCol=\"prediction\")\n",
        "accuracy = evaluator.evaluate(results_svc, {evaluator.metricName: \"accuracy\"})\n",
        "f1Score = evaluator.evaluate(results_svc, {evaluator.metricName: \"f1\"})\n",
        "print('Support Vector Machine Metrics:')\n",
        "print('Accuracy: {:.2f}'.format(accuracy))\n",
        "print('F1 Score: {:.2f}'.format(f1Score))"
      ]
    },
    {
      "cell_type": "markdown",
      "metadata": {
        "id": "xwdrNlrji9fp"
      },
      "source": [
        "Finally, Random Forest Classifier"
      ]
    },
    {
      "cell_type": "code",
      "execution_count": null,
      "metadata": {
        "colab": {
          "base_uri": "https://localhost:8080/"
        },
        "id": "UCJKYgDzi9fp",
        "outputId": "db387c6b-0d56-4e17-b772-5064800eb23e"
      },
      "outputs": [
        {
          "output_type": "stream",
          "name": "stdout",
          "text": [
            "+------+-----+----------+\n",
            "|userID|label|prediction|\n",
            "+------+-----+----------+\n",
            "|100004|    0|       0.0|\n",
            "|100019|    1|       1.0|\n",
            "|   104|    0|       0.0|\n",
            "|    11|    0|       0.0|\n",
            "|   113|    0|       0.0|\n",
            "|   114|    0|       0.0|\n",
            "|   123|    0|       0.0|\n",
            "|   124|    0|       0.0|\n",
            "|   128|    0|       0.0|\n",
            "|   131|    0|       0.0|\n",
            "+------+-----+----------+\n",
            "only showing top 10 rows\n",
            "\n",
            "Random Forest Metrics:\n",
            "Accuracy: 0.86\n",
            "F1 Score: 0.85\n"
          ]
        }
      ],
      "source": [
        "rf_classifier = RandomForestClassifier()\n",
        "cvModel_rf= rf_classifier.fit(trainingDF)\n",
        "\n",
        "# Make Predictions\n",
        "results_rf = cvModel_rf.transform(testDF).select('userID', 'label', 'prediction')\n",
        "results_rf.show(10)\n",
        "\n",
        "# Get Results\n",
        "evaluator = MulticlassClassificationEvaluator(predictionCol=\"prediction\")\n",
        "accuracy = evaluator.evaluate(results_rf, {evaluator.metricName: \"accuracy\"})\n",
        "f1Score = evaluator.evaluate(results_rf, {evaluator.metricName: \"f1\"})\n",
        "print('Random Forest Metrics:')\n",
        "print('Accuracy: {:.2f}'.format(accuracy))\n",
        "print('F1 Score: {:.2f}'.format(f1Score))"
      ]
    },
    {
      "cell_type": "markdown",
      "metadata": {
        "id": "W9l3NyWFi9fp"
      },
      "source": [
        "From the four models above,  Logistic Regression Classifier\n",
        "  * Accuracy: 0.92\n",
        "  * F1 Score: 0.91"
      ]
    },
    {
      "cell_type": "markdown",
      "metadata": {
        "id": "uQJPpLe4i9fp"
      },
      "source": [
        "## Hybrid model\n",
        "\n",
        "Ensemble models sometimes produce great results. We shall create a hybrid model to combine our four models above."
      ]
    },
    {
      "cell_type": "markdown",
      "metadata": {
        "id": "xvsRnKB_i9fp"
      },
      "source": [
        "Lets combine the results first."
      ]
    },
    {
      "cell_type": "code",
      "execution_count": null,
      "metadata": {
        "colab": {
          "base_uri": "https://localhost:8080/"
        },
        "id": "qmdkrRe6i9fp",
        "outputId": "7a159eed-6a2e-4ff9-ea97-fb26ae8dabf6"
      },
      "outputs": [
        {
          "output_type": "stream",
          "name": "stdout",
          "text": [
            "+------+-----+--------------+--------------+--------------+-------------+\n",
            "|userID|label|prediction_GBT|prediction_LGR|prediction_SVC|prediction_RF|\n",
            "+------+-----+--------------+--------------+--------------+-------------+\n",
            "|100004|    0|           0.0|           0.0|           0.0|          0.0|\n",
            "|100019|    1|           1.0|           1.0|           0.0|          1.0|\n",
            "|   104|    0|           0.0|           0.0|           0.0|          0.0|\n",
            "|    11|    0|           0.0|           0.0|           0.0|          0.0|\n",
            "|   113|    0|           0.0|           0.0|           0.0|          0.0|\n",
            "|   114|    0|           0.0|           0.0|           0.0|          0.0|\n",
            "|   123|    0|           0.0|           0.0|           0.0|          0.0|\n",
            "|   124|    0|           0.0|           0.0|           0.0|          0.0|\n",
            "|   128|    0|           0.0|           0.0|           0.0|          0.0|\n",
            "|   131|    0|           0.0|           0.0|           0.0|          0.0|\n",
            "|   132|    0|           0.0|           0.0|           0.0|          0.0|\n",
            "|   140|    0|           0.0|           0.0|           0.0|          0.0|\n",
            "|   151|    0|           1.0|           0.0|           0.0|          0.0|\n",
            "|   155|    0|           0.0|           0.0|           0.0|          1.0|\n",
            "|    18|    1|           1.0|           0.0|           0.0|          0.0|\n",
            "|200020|    1|           0.0|           0.0|           0.0|          0.0|\n",
            "|200021|    1|           0.0|           1.0|           0.0|          0.0|\n",
            "|300001|    1|           0.0|           0.0|           0.0|          0.0|\n",
            "|300002|    0|           0.0|           0.0|           0.0|          0.0|\n",
            "|300003|    0|           0.0|           0.0|           0.0|          0.0|\n",
            "+------+-----+--------------+--------------+--------------+-------------+\n",
            "only showing top 20 rows\n",
            "\n"
          ]
        }
      ],
      "source": [
        "results_GradBoostTree = results_GradBoostTree.withColumnRenamed(\"prediction\", \"prediction_GBT\")\n",
        "results_lgr = results_lgr.select('userId', 'prediction').withColumnRenamed(\"prediction\", \"prediction_LGR\")\n",
        "results_svc = results_svc.select('userId', 'prediction').withColumnRenamed(\"prediction\", \"prediction_SVC\")\n",
        "results_rf = results_rf.select('userId', 'prediction').withColumnRenamed(\"prediction\", \"prediction_RF\")\n",
        "results = results_GradBoostTree.join(results_lgr, 'userID', 'outer')\n",
        "results = results.join(results_svc, 'userID', 'outer').join(results_rf, 'userID', 'outer')\n",
        "results.show()"
      ]
    },
    {
      "cell_type": "markdown",
      "metadata": {
        "id": "ttNoPbHEi9fp"
      },
      "source": [
        "Our hybrid model will simply be an OR function. This means that if a model has labelled if a user will churn, the hybrid model will label that user as churned."
      ]
    },
    {
      "cell_type": "code",
      "execution_count": null,
      "metadata": {
        "colab": {
          "base_uri": "https://localhost:8080/"
        },
        "id": "GrexnYXei9fp",
        "outputId": "f34a1fdf-04b6-4bb7-9004-c4b6d7e34304"
      },
      "outputs": [
        {
          "output_type": "stream",
          "name": "stdout",
          "text": [
            "+------+-----+--------------+--------------+--------------+-------------+----------+\n",
            "|userID|label|prediction_GBT|prediction_LGR|prediction_SVC|prediction_RF|prediction|\n",
            "+------+-----+--------------+--------------+--------------+-------------+----------+\n",
            "|100004|    0|           0.0|           0.0|           0.0|          0.0|       0.0|\n",
            "|100019|    1|           1.0|           1.0|           0.0|          1.0|       1.0|\n",
            "|   104|    0|           0.0|           0.0|           0.0|          0.0|       0.0|\n",
            "|    11|    0|           0.0|           0.0|           0.0|          0.0|       0.0|\n",
            "|   113|    0|           0.0|           0.0|           0.0|          0.0|       0.0|\n",
            "|   114|    0|           0.0|           0.0|           0.0|          0.0|       0.0|\n",
            "|   123|    0|           0.0|           0.0|           0.0|          0.0|       0.0|\n",
            "|   124|    0|           0.0|           0.0|           0.0|          0.0|       0.0|\n",
            "|   128|    0|           0.0|           0.0|           0.0|          0.0|       0.0|\n",
            "|   131|    0|           0.0|           0.0|           0.0|          0.0|       0.0|\n",
            "|   132|    0|           0.0|           0.0|           0.0|          0.0|       0.0|\n",
            "|   140|    0|           0.0|           0.0|           0.0|          0.0|       0.0|\n",
            "|   151|    0|           1.0|           0.0|           0.0|          0.0|       1.0|\n",
            "|   155|    0|           0.0|           0.0|           0.0|          1.0|       1.0|\n",
            "|    18|    1|           1.0|           0.0|           0.0|          0.0|       1.0|\n",
            "|200020|    1|           0.0|           0.0|           0.0|          0.0|       0.0|\n",
            "|200021|    1|           0.0|           1.0|           0.0|          0.0|       1.0|\n",
            "|300001|    1|           0.0|           0.0|           0.0|          0.0|       0.0|\n",
            "|300002|    0|           0.0|           0.0|           0.0|          0.0|       0.0|\n",
            "|300003|    0|           0.0|           0.0|           0.0|          0.0|       0.0|\n",
            "+------+-----+--------------+--------------+--------------+-------------+----------+\n",
            "only showing top 20 rows\n",
            "\n",
            "Hybrid Metrics:\n",
            "Accuracy: 0.89\n",
            "F1 Score: 0.89\n"
          ]
        }
      ],
      "source": [
        "def hybrid_function(prediction_GBT, prediction_LGR, prediction_SVM, prediction_rf):\n",
        "    sum_predictions = prediction_GBT + prediction_LGR + prediction_SVM + prediction_rf\n",
        "    if sum_predictions >= 1:\n",
        "        return 1.0\n",
        "    else:\n",
        "        return 0.0\n",
        "\n",
        "udf_hybrid_calc_function = F.udf(hybrid_function, DoubleType())\n",
        "results = results.withColumn(\"prediction\",\n",
        "                                 udf_hybrid_calc_function(\n",
        "                                     \"prediction_GBT\",\n",
        "                                     \"prediction_SVC\",\n",
        "                                     \"prediction_LGR\",\n",
        "                                     \"prediction_RF\"))\n",
        "\n",
        "evaluator = MulticlassClassificationEvaluator(predictionCol=\"prediction\")\n",
        "accuracy = evaluator.evaluate(results, {evaluator.metricName: \"accuracy\"})\n",
        "f1Score = evaluator.evaluate(results, {evaluator.metricName: \"f1\"})\n",
        "results.show()\n",
        "print('Hybrid Metrics:')\n",
        "print('Accuracy: {:.2f}'.format(accuracy))\n",
        "print('F1 Score: {:.2f}'.format(f1Score))"
      ]
    },
    {
      "cell_type": "markdown",
      "metadata": {
        "id": "7kKUELEci9fq"
      },
      "source": [
        "The f1 score and the accuracy stayed the same as the best model."
      ]
    }
  ],
  "metadata": {
    "kernelspec": {
      "display_name": "Python 3",
      "language": "python",
      "name": "python3"
    },
    "language_info": {
      "codemirror_mode": {
        "name": "ipython",
        "version": 3
      },
      "file_extension": ".py",
      "mimetype": "text/x-python",
      "name": "python",
      "nbconvert_exporter": "python",
      "pygments_lexer": "ipython3",
      "version": "3.6.8"
    },
    "colab": {
      "provenance": []
    }
  },
  "nbformat": 4,
  "nbformat_minor": 0
}